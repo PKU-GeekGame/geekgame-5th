{
 "cells": [
  {
   "cell_type": "code",
   "execution_count": 11,
   "id": "16dd2af6",
   "metadata": {},
   "outputs": [],
   "source": [
    "from secrets import token_bytes\n",
    "from hashlib import sha1\n",
    "import base64\n",
    "\n",
    "# THE FATE OF YOUR GRADE HANGS IN THE BALANCE...\n",
    "# PROFESSOR'S CHALLENGE ECHOES IN YOUR MIND: \"BREAK THIS CIPHER, GET 4.0!\"\n",
    "\n",
    "def pad(data_to_pad, block_size):\n",
    "    # PADDING: BECAUSE EVEN REBELS NEED TO FOLLOW SOME RULES\n",
    "    padding_len = block_size - len(data_to_pad) % block_size\n",
    "    padding = bytes([padding_len] * padding_len)\n",
    "    return data_to_pad + padding\n",
    "\n",
    "\n",
    "def crypt(data: bytes, key: bytes, mode: str, rounds: int):\n",
    "    # THE REBEL'S MASTERPIECE: DES CORE MUTILATED WITH SHA1 HEART TRANSPLANT\n",
    "    # BLOCK SIZE: 4 BYTES (BECAUSE WHO NEEDS STANDARDS ANYWAY?)\n",
    "    # KEY SIZE: 6 BYTES, 48 BITS (COMPROMISE IS THE NAME OF THE GAME)\n",
    "\n",
    "    assert len(key) == 6  # THE CHAINS OF CONVENTION\n",
    "    assert len(data) % 4 == 0  # CONFORMITY IN REBELLION\n",
    "    assert mode == \"e\" or mode == \"d\"  # ENCRYPT OR DECRYPT? THE ETERNAL QUESTION\n",
    "\n",
    "    res = bytearray()\n",
    "    keys = [\n",
    "        key[0:3],  # HALF A KEY FOR TWICE THE FUN\n",
    "        key[3:6],  # THE OTHER HALF OF THIS DISASTER\n",
    "    ]\n",
    "\n",
    "    for i in range(0, len(data), 4):\n",
    "        part = data[i : i + 4]\n",
    "        L = part[0:2]  # LEFT HALF: INNOCENT BYSTANDER\n",
    "        R = part[2:4]  # RIGHT HALF: ABOUT TO GET SHA1-MASHED\n",
    "\n",
    "        for r in range(rounds):\n",
    "            if mode == \"e\":\n",
    "                round_key = keys[r % 2]  # KEY SCHEDULE: TOO SIMPLE TO FAIL?\n",
    "            else:\n",
    "                round_key = keys[\n",
    "                    (r + 1) % 2\n",
    "                ]  # DECRYPTION: WALKING BACKWARDS THROUGH CHAOS\n",
    "\n",
    "            # THE MOMENT OF TRUTH: SHA1 AS FEISTEL FUNCTION\n",
    "            # THIS IS WHERE THE REBEL'S DREAM MEETS CRYPTOGRAPHIC REALITY\n",
    "            temp = sha1(R + round_key).digest()  # HASHING OUR WAY TO GLORY (OR RUIN)\n",
    "\n",
    "            # THE FEISTEL DANCE: SWAP AND MUTATE\n",
    "            L, R = R, bytes(\n",
    "                [a ^ b for a, b, in zip(L, temp)]\n",
    "            )  # XOR: THE BUTTERFLY EFFECT\n",
    "\n",
    "        enc = R + L  # FINAL SWAP: THE GRAND ILLUSION\n",
    "        res += enc  # COLLECTING THE PIECES OF OUR BROKEN DREAMS\n",
    "\n",
    "    return bytes(res)  # BEHOLD: THE MONSTROSITY IN ALL ITS GLORY\n",
    "\n",
    "\n",
    "def encrypt(data: bytes, key: bytes):\n",
    "    # ENTER THE DRAGON: 32 ROUNDS OF PSEUDO-SECURITY\n",
    "    return crypt(data, key, \"e\", 32)\n",
    "\n",
    "\n",
    "def decrypt(data: bytes, key: bytes):\n",
    "    # REVERSE THE CURSE: CAN WE UNDO THIS MADNESS?\n",
    "    return crypt(data, key, \"d\", 32)\n"
   ]
  },
  {
   "cell_type": "code",
   "execution_count": null,
   "id": "2c22ebe5",
   "metadata": {},
   "outputs": [],
   "source": [
    "# THE ARENA: WHERE GRADES ARE WON AND DREAMS DIE\n",
    "mode = input(\"easy or hard?\")  # CHOOSE YOUR FATE, BRAVE SOUL\n",
    "\n",
    "if mode == \"easy\":\n",
    "    # EASY MODE: THE PROFESSOR'S WARM-UP LAUGH\n",
    "    key = token_bytes(6)  # RANDOM KEY: THE DICE OF DESTINY\n",
    "    flag_easy = open(\"/flag_easy\", encoding=\"utf-8\").read().strip()\n",
    "    plain = pad(base64.b16encode(flag_easy.encode()), 4)\n",
    "    enc_flag = encrypt(plain, key)  # THE FIRST VICTIM OF OUR CRYPTO-EXPERIMENT\n",
    "    assert (\n",
    "        decrypt(enc_flag, key) == plain\n",
    "    )  # SANITY CHECK: EVEN MAD SCIENTISTS HAVE STANDARDS\n",
    "    print(enc_flag.hex())  # THE CHALLENGE: CRACK THIS AND CLAIM YOUR REWARD\n",
    "\n",
    "    # THE TRAINING GROUNDS: PRACTICE MAKES PERFECT (OR BREAKS SPIRITS)\n",
    "    # HINT: YOU CAN SEND DATA IN BATCH TO SPEED UP IO\n",
    "    while True:\n",
    "        plain = bytes.fromhex(input())\n",
    "        print(encrypt(plain, key).hex())  # THE ORACLE SPEAKS: ENCRYPTION ON DEMAND\n",
    "\n",
    "elif mode == \"hard\":\n",
    "    # HARD MODE: THE PROFESSOR'S FINAL LAUGH\n",
    "    key = token_bytes(6)  # ANOTHER RANDOM KEY: DOUBLE THE TROUBLE\n",
    "    flag_hard = open(\"/flag_hard\", encoding=\"utf-8\").read().strip()\n",
    "    flag_hard_padded = pad(flag_hard.encode(), 4)\n",
    "    xor_key = token_bytes(len(flag_hard_padded))  # EXTRA LAYER OF CONFUSION\n",
    "    scrambled = bytes(\n",
    "        [a ^ b for a, b in zip(flag_hard_padded, xor_key)]\n",
    "    )  # MIXING THE POT\n",
    "\n",
    "    # DOUBLE ENCRYPTION: BECAUSE ONE LAYER OF INSANITY WASN'T ENOUGH\n",
    "    enc_scrambled = encrypt(scrambled, key)  # THE MAZE\n",
    "    enc_xor_key = encrypt(xor_key, key)  # THE KEY TO THE MAZE (ENCRYPTED, OF COURSE)\n",
    "    print(enc_scrambled.hex())  # THE FIRST CLUE IN THIS TREASURE HUNT\n",
    "    print(enc_xor_key.hex())  # THE SECOND CLUE: NOW PUT THEM TOGETHER\n",
    "\n",
    "    # THE GAUNTLET: 100,000 CHANCES TO PROVE YOUR WORTH\n",
    "    # HINT: YOU CAN SEND MULTIPLE LINES BEFORE WAITING FOR RESPONSE TO SPEED UP IO\n",
    "    for i in range(100000):\n",
    "        plain = bytes.fromhex(input())\n",
    "        print(encrypt(plain[:4], key).hex())  # THE ORACLE WHISPERS: ONE BLOCK AT A TIME\n",
    "\n",
    "# THE CLOCK IS TICKING... CAN YOU BREAK THE REBEL'S CIPHER BEFORE YOUR GRADE SHATTERS?\n",
    "# THE PROFESSOR WATCHES, AMUSED. THE BALL IS IN YOUR COURT.\n"
   ]
  },
  {
   "cell_type": "markdown",
   "id": "128d8dfd",
   "metadata": {},
   "source": [
    "## flag1"
   ]
  },
  {
   "cell_type": "code",
   "execution_count": 120,
   "id": "3754d890",
   "metadata": {},
   "outputs": [
    {
     "name": "stdout",
     "output_type": "stream",
     "text": [
      "[x] Opening connection to prob12.geekgame.pku.edu.cn on port 10012\n",
      "[x] Opening connection to prob12.geekgame.pku.edu.cn on port 10012: Trying 115.27.246.20\n",
      "[+] Opening connection to prob12.geekgame.pku.edu.cn on port 10012: Done\n"
     ]
    },
    {
     "data": {
      "text/plain": [
       "b'0771941b15f4f52963159ae683599deec3188131ef7f92eb3f08c9a2e3deca110f1f1d327c97a7988e6b666f92ec56d85e103d74f1c1f7b7dfc7111913d8f7f11209d0d68e6b666f92294a321303a506a9bae27c6d9a0dd5abfea5fb053737f6990aac4e87b9ea77\\n'"
      ]
     },
     "execution_count": 120,
     "metadata": {},
     "output_type": "execute_result"
    }
   ],
   "source": [
    "from pwn import *\n",
    "\n",
    "r = remote('prob12.geekgame.pku.edu.cn', 10012)\n",
    "r.recv()\n",
    "r.sendline(b'GgT-8j-Edq1WkAHBzfYemt1HGSx2N7KlXfEbiu2I03lne-RS563K0ALLvJL5SAs_92ikd9pc9qmr0Rf6ky71vkf3DwgE')\n",
    "r.recv()\n",
    "r.sendline(b'easy')\n",
    "r.recvline()"
   ]
  },
  {
   "cell_type": "code",
   "execution_count": 128,
   "id": "904460b7",
   "metadata": {},
   "outputs": [
    {
     "name": "stderr",
     "output_type": "stream",
     "text": [
      " 12%|█▎        | 2/16 [00:00<00:02,  6.34it/s]"
     ]
    },
    {
     "name": "stdout",
     "output_type": "stream",
     "text": [
      "32768\n",
      "32768\n"
     ]
    },
    {
     "name": "stderr",
     "output_type": "stream",
     "text": [
      " 25%|██▌       | 4/16 [00:00<00:01,  6.39it/s]"
     ]
    },
    {
     "name": "stdout",
     "output_type": "stream",
     "text": [
      "32768\n",
      "32768\n"
     ]
    },
    {
     "name": "stderr",
     "output_type": "stream",
     "text": [
      " 38%|███▊      | 6/16 [00:00<00:01,  6.30it/s]"
     ]
    },
    {
     "name": "stdout",
     "output_type": "stream",
     "text": [
      "32768\n",
      "32768\n"
     ]
    },
    {
     "name": "stderr",
     "output_type": "stream",
     "text": [
      " 50%|█████     | 8/16 [00:01<00:01,  6.38it/s]"
     ]
    },
    {
     "name": "stdout",
     "output_type": "stream",
     "text": [
      "32768\n",
      "32768\n"
     ]
    },
    {
     "name": "stderr",
     "output_type": "stream",
     "text": [
      " 62%|██████▎   | 10/16 [00:01<00:00,  6.34it/s]"
     ]
    },
    {
     "name": "stdout",
     "output_type": "stream",
     "text": [
      "32768\n",
      "32768\n"
     ]
    },
    {
     "name": "stderr",
     "output_type": "stream",
     "text": [
      " 75%|███████▌  | 12/16 [00:01<00:00,  6.36it/s]"
     ]
    },
    {
     "name": "stdout",
     "output_type": "stream",
     "text": [
      "32768\n",
      "32768\n"
     ]
    },
    {
     "name": "stderr",
     "output_type": "stream",
     "text": [
      " 88%|████████▊ | 14/16 [00:02<00:00,  6.40it/s]"
     ]
    },
    {
     "name": "stdout",
     "output_type": "stream",
     "text": [
      "32768\n",
      "32768\n"
     ]
    },
    {
     "name": "stderr",
     "output_type": "stream",
     "text": [
      "100%|██████████| 16/16 [00:02<00:00,  6.36it/s]"
     ]
    },
    {
     "name": "stdout",
     "output_type": "stream",
     "text": [
      "32768\n",
      "32768\n"
     ]
    },
    {
     "name": "stderr",
     "output_type": "stream",
     "text": [
      "\n"
     ]
    }
   ],
   "source": [
    "from tqdm import tqdm\n",
    "\n",
    "ALPHABET = \"0123456789ABCDEF\"\n",
    "\n",
    "# 构建明密文映射字典, bytes -> hex\n",
    "plain_to_cipher = {}\n",
    "cipher_to_plain = {}\n",
    "        \n",
    "total_possible = 16**4\n",
    "batch_size = 4096\n",
    "all_plaintexts = []\n",
    "for n in range(total_possible):\n",
    "    candidate = \"\"\n",
    "    temp = n\n",
    "    for j in range(4):\n",
    "        digit = temp % 16\n",
    "        candidate += ALPHABET[digit]\n",
    "        temp //= 16\n",
    "    all_plaintexts.append(candidate.encode())\n",
    "    \n",
    "# 批量查询Oracle\n",
    "for batch_start in tqdm(range(0, total_possible, batch_size)):\n",
    "    batch_end = min(batch_start + batch_size, total_possible)\n",
    "    batch_plaintexts = all_plaintexts[batch_start: batch_end]\n",
    "\n",
    "    # 构建批量查询的长字符串\n",
    "    batch_data = b\"\".join(batch_plaintexts)\n",
    "\n",
    "    # 批量加密\n",
    "    try:\n",
    "        r.sendline(batch_data.hex().encode())\n",
    "        batch_cipher = r.recvline().decode().strip()\n",
    "        print(len(batch_cipher))\n",
    "    except Exception as e:\n",
    "        print(f\"加密失败: {e}\")\n",
    "        continue\n",
    "\n",
    "    # 分段处理结果，每4字节对应一个明文块\n",
    "    for i in range(batch_size):\n",
    "        plain_block = batch_data[i*4: i*4+4]\n",
    "        cipher_block = batch_cipher[i*8: i*8+8]\n",
    "        \n",
    "        # 存储映射关系\n",
    "        plain_to_cipher[plain_block] = cipher_block\n",
    "        cipher_to_plain[cipher_block] = plain_block"
   ]
  },
  {
   "cell_type": "code",
   "execution_count": 130,
   "id": "0b66d000",
   "metadata": {},
   "outputs": [],
   "source": [
    "enc_flag = \"0771941b15f4f52963159ae683599deec3188131ef7f92eb3f08c9a2e3deca110f1f1d327c97a7988e6b666f92ec56d85e103d74f1c1f7b7dfc7111913d8f7f11209d0d68e6b666f92294a321303a506a9bae27c6d9a0dd5abfea5fb053737f6990aac4e87b9ea77\""
   ]
  },
  {
   "cell_type": "code",
   "execution_count": 139,
   "id": "881814c7",
   "metadata": {},
   "outputs": [],
   "source": [
    "plain = \"\"\n",
    "for i in range(0, len(enc_flag), 8):\n",
    "    tmp = enc_flag[i: i+8]\n",
    "    try:\n",
    "        plain += cipher_to_plain[tmp].decode()\n",
    "    except:\n",
    "        break # 忽略结尾的padding"
   ]
  },
  {
   "cell_type": "code",
   "execution_count": 135,
   "id": "c701918e",
   "metadata": {},
   "outputs": [
    {
     "data": {
      "text/plain": [
       "b'flag{sHORT_BLOCK_sIzE_IS_VuLNERAblE_TO_brUtEfORCe}'"
      ]
     },
     "execution_count": 135,
     "metadata": {},
     "output_type": "execute_result"
    }
   ],
   "source": [
    "bytes.fromhex(plain)"
   ]
  },
  {
   "cell_type": "markdown",
   "id": "dbca049e",
   "metadata": {},
   "source": [
    "## flag2"
   ]
  },
  {
   "cell_type": "code",
   "execution_count": 301,
   "id": "995e73ce",
   "metadata": {},
   "outputs": [
    {
     "name": "stdout",
     "output_type": "stream",
     "text": [
      "[x] Opening connection to prob12.geekgame.pku.edu.cn on port 10012\n",
      "[x] Opening connection to prob12.geekgame.pku.edu.cn on port 10012: Trying 115.27.246.20\n",
      "[+] Opening connection to prob12.geekgame.pku.edu.cn on port 10012: Done\n",
      "b'c277ea842f8f07bb4ab29e90c5edc378acc1209fab9ff05ce0cb9be6ca2878f83de8c10799a29ce0e46f20b80eeb143a\\n'\n",
      "b'14f31dea86473b80023a46d1f329baa7477d1fb12f51f0873bb65d71b80efa6ff7e479f96cd47586aa7e2acf791bff1c\\n'\n"
     ]
    }
   ],
   "source": [
    "from pwn import *\n",
    "\n",
    "r = remote('prob12.geekgame.pku.edu.cn', 10012)\n",
    "r.recv()\n",
    "r.sendline(b'GgT-8j-Edq1WkAHBzfYemt1HGSx2N7KlXfEbiu2I03lne-RS563K0ALLvJL5SAs_92ikd9pc9qmr0Rf6ky71vkf3DwgE')\n",
    "r.recv()\n",
    "r.sendline(b'hard')\n",
    "print(r.recvline())\n",
    "print(r.recvline())"
   ]
  },
  {
   "cell_type": "code",
   "execution_count": 302,
   "id": "10d782ba",
   "metadata": {},
   "outputs": [
    {
     "name": "stderr",
     "output_type": "stream",
     "text": [
      " 72%|███████▏  | 47246/65536 [00:26<00:10, 1796.09it/s]"
     ]
    },
    {
     "name": "stdout",
     "output_type": "stream",
     "text": [
      "Successed! b'ag\\x95\\xe3' b'\\xb7\\xc7\\xceT'\n"
     ]
    },
    {
     "name": "stderr",
     "output_type": "stream",
     "text": [
      "100%|██████████| 65536/65536 [00:35<00:00, 1820.88it/s]\n"
     ]
    }
   ],
   "source": [
    "# L0, R0 -> enc -> R32, L32\n",
    "# L1, R1 -> dec -> R33, L33\n",
    "\n",
    "key = token_bytes(6)\n",
    "def oracle(bt, local=False, key=None):\n",
    "    if local:\n",
    "        return encrypt(bt, key) \n",
    "    else:\n",
    "        r.sendline(bt.hex().encode())\n",
    "        v = r.recvline().strip()\n",
    "        return bytes.fromhex(v.decode())\n",
    "\n",
    "P0 = b\"flag\"\n",
    "L0, R0 = P0[:2], P0[2:]\n",
    "enc = oracle(P0)\n",
    "R32, L32 = enc[:2], enc[2:]\n",
    "L33 = R32\n",
    "for n in tqdm(range(2**16)):\n",
    "    R33 = n.to_bytes(2, byteorder='big')\n",
    "    P1 = oracle(R33 + L33)\n",
    "    if len(P1) != 4:\n",
    "        print(\"Error!\", P1)\n",
    "        break\n",
    "    if P1[:2] == R0:\n",
    "        print(\"Successed!\", P1, R33+L33)"
   ]
  },
  {
   "cell_type": "code",
   "execution_count": 303,
   "id": "4745c4e3",
   "metadata": {},
   "outputs": [],
   "source": [
    "P0 = L0 + R0\n",
    "P1 = b'ag\\x95\\xe3'\n",
    "P32 = enc\n",
    "P33 = b'\\xb7\\xc7\\xceT'\n",
    "possible_k1 = []\n",
    "possible_k2 = []"
   ]
  },
  {
   "cell_type": "code",
   "execution_count": 304,
   "id": "547de246",
   "metadata": {},
   "outputs": [
    {
     "data": {
      "text/plain": [
       "(b'flag', b'ag\\x95\\xe3', b'\\xceT\\x9b\\xd9', b'\\xb7\\xc7\\xceT')"
      ]
     },
     "execution_count": 304,
     "metadata": {},
     "output_type": "execute_result"
    }
   ],
   "source": [
    "P0,P1,P32,P33"
   ]
  },
  {
   "cell_type": "code",
   "execution_count": 305,
   "id": "8105a119",
   "metadata": {},
   "outputs": [
    {
     "name": "stderr",
     "output_type": "stream",
     "text": [
      " 19%|█▉        | 3176033/16777216 [00:04<00:17, 756692.87it/s]"
     ]
    },
    {
     "name": "stdout",
     "output_type": "stream",
     "text": [
      "Correct key 1: 3091475\n"
     ]
    },
    {
     "name": "stderr",
     "output_type": "stream",
     "text": [
      "100%|██████████| 16777216/16777216 [00:22<00:00, 753647.83it/s]\n"
     ]
    }
   ],
   "source": [
    "def one_round(L, R, k):\n",
    "    temp = sha1(R + k).digest() \n",
    "    L, R = R, bytes(\n",
    "        [a ^ b for a, b, in zip(L, temp)]\n",
    "    )\n",
    "    return L + R\n",
    "    \n",
    "for k in tqdm(range(2**24)):\n",
    "    k1 = k.to_bytes(3, byteorder='big')\n",
    "    if one_round(L0, R0, k1) == P1 and one_round(P32[2:], P32[:2], k1) == P33[2:] + P33[:2]:\n",
    "        print(\"Correct key 1:\", k)"
   ]
  },
  {
   "cell_type": "code",
   "execution_count": 306,
   "id": "7d2ded9e",
   "metadata": {
    "collapsed": true
   },
   "outputs": [
    {
     "name": "stderr",
     "output_type": "stream",
     "text": [
      " 25%|██▍       | 4119354/16777216 [02:09<06:37, 31831.32it/s]"
     ]
    },
    {
     "name": "stdout",
     "output_type": "stream",
     "text": [
      "Correct key 2: 4114859\n"
     ]
    },
    {
     "name": "stderr",
     "output_type": "stream",
     "text": [
      " 26%|██▌       | 4283963/16777216 [02:14<06:31, 31900.52it/s]\n"
     ]
    },
    {
     "ename": "KeyboardInterrupt",
     "evalue": "",
     "output_type": "error",
     "traceback": [
      "\u001b[0;31m---------------------------------------------------------------------------\u001b[0m",
      "\u001b[0;31mKeyboardInterrupt\u001b[0m                         Traceback (most recent call last)",
      "Cell \u001b[0;32mIn[306], line 4\u001b[0m\n\u001b[1;32m      2\u001b[0m k2 \u001b[38;5;241m=\u001b[39m k\u001b[38;5;241m.\u001b[39mto_bytes(\u001b[38;5;241m3\u001b[39m, byteorder\u001b[38;5;241m=\u001b[39m\u001b[38;5;124m'\u001b[39m\u001b[38;5;124mbig\u001b[39m\u001b[38;5;124m'\u001b[39m)\n\u001b[1;32m      3\u001b[0m key \u001b[38;5;241m=\u001b[39m \u001b[38;5;28mint\u001b[39m\u001b[38;5;241m.\u001b[39mto_bytes(\u001b[38;5;241m3091475\u001b[39m, \u001b[38;5;241m3\u001b[39m, byteorder\u001b[38;5;241m=\u001b[39m\u001b[38;5;124m'\u001b[39m\u001b[38;5;124mbig\u001b[39m\u001b[38;5;124m'\u001b[39m) \u001b[38;5;241m+\u001b[39m k2\n\u001b[0;32m----> 4\u001b[0m \u001b[38;5;28;01mif\u001b[39;00m oracle(P0, local\u001b[38;5;241m=\u001b[39m\u001b[38;5;28;01mTrue\u001b[39;00m, key\u001b[38;5;241m=\u001b[39mkey) \u001b[38;5;241m==\u001b[39m P32:\n\u001b[1;32m      5\u001b[0m     \u001b[38;5;28mprint\u001b[39m(\u001b[38;5;124m\"\u001b[39m\u001b[38;5;124mCorrect key 2:\u001b[39m\u001b[38;5;124m\"\u001b[39m, k)\n",
      "Cell \u001b[0;32mIn[302], line 6\u001b[0m, in \u001b[0;36moracle\u001b[0;34m(bt, local, key)\u001b[0m\n\u001b[1;32m      4\u001b[0m \u001b[38;5;28;01mdef\u001b[39;00m \u001b[38;5;21moracle\u001b[39m(bt, local\u001b[38;5;241m=\u001b[39m\u001b[38;5;28;01mFalse\u001b[39;00m, key\u001b[38;5;241m=\u001b[39m\u001b[38;5;28;01mNone\u001b[39;00m):\n\u001b[1;32m      5\u001b[0m     \u001b[38;5;28;01mif\u001b[39;00m local:\n\u001b[0;32m----> 6\u001b[0m         \u001b[38;5;28;01mreturn\u001b[39;00m encrypt(bt, key) \n\u001b[1;32m      7\u001b[0m     \u001b[38;5;28;01melse\u001b[39;00m:\n\u001b[1;32m      8\u001b[0m         r\u001b[38;5;241m.\u001b[39msendline(bt\u001b[38;5;241m.\u001b[39mhex()\u001b[38;5;241m.\u001b[39mencode())\n",
      "Cell \u001b[0;32mIn[11], line 61\u001b[0m, in \u001b[0;36mencrypt\u001b[0;34m(data, key)\u001b[0m\n\u001b[1;32m     59\u001b[0m \u001b[38;5;28;01mdef\u001b[39;00m \u001b[38;5;21mencrypt\u001b[39m(data: \u001b[38;5;28mbytes\u001b[39m, key: \u001b[38;5;28mbytes\u001b[39m):\n\u001b[1;32m     60\u001b[0m     \u001b[38;5;66;03m# ENTER THE DRAGON: 32 ROUNDS OF PSEUDO-SECURITY\u001b[39;00m\n\u001b[0;32m---> 61\u001b[0m     \u001b[38;5;28;01mreturn\u001b[39;00m crypt(data, key, \u001b[38;5;124m\"\u001b[39m\u001b[38;5;124me\u001b[39m\u001b[38;5;124m\"\u001b[39m, \u001b[38;5;241m32\u001b[39m)\n",
      "Cell \u001b[0;32mIn[11], line 50\u001b[0m, in \u001b[0;36mcrypt\u001b[0;34m(data, key, mode, rounds)\u001b[0m\n\u001b[1;32m     46\u001b[0m     temp \u001b[38;5;241m=\u001b[39m sha1(R \u001b[38;5;241m+\u001b[39m round_key)\u001b[38;5;241m.\u001b[39mdigest()  \u001b[38;5;66;03m# HASHING OUR WAY TO GLORY (OR RUIN)\u001b[39;00m\n\u001b[1;32m     48\u001b[0m     \u001b[38;5;66;03m# THE FEISTEL DANCE: SWAP AND MUTATE\u001b[39;00m\n\u001b[1;32m     49\u001b[0m     L, R \u001b[38;5;241m=\u001b[39m R, \u001b[38;5;28mbytes\u001b[39m(\n\u001b[0;32m---> 50\u001b[0m         [a \u001b[38;5;241m^\u001b[39m b \u001b[38;5;28;01mfor\u001b[39;00m a, b, \u001b[38;5;129;01min\u001b[39;00m \u001b[38;5;28mzip\u001b[39m(L, temp)]\n\u001b[1;32m     51\u001b[0m     )  \u001b[38;5;66;03m# XOR: THE BUTTERFLY EFFECT\u001b[39;00m\n\u001b[1;32m     53\u001b[0m enc \u001b[38;5;241m=\u001b[39m R \u001b[38;5;241m+\u001b[39m L  \u001b[38;5;66;03m# FINAL SWAP: THE GRAND ILLUSION\u001b[39;00m\n\u001b[1;32m     54\u001b[0m res \u001b[38;5;241m+\u001b[39m\u001b[38;5;241m=\u001b[39m enc  \u001b[38;5;66;03m# COLLECTING THE PIECES OF OUR BROKEN DREAMS\u001b[39;00m\n",
      "\u001b[0;31mKeyboardInterrupt\u001b[0m: "
     ]
    }
   ],
   "source": [
    "for k in tqdm(range(2**24)):\n",
    "    k2 = k.to_bytes(3, byteorder='big')\n",
    "    key = int.to_bytes(3091475, 3, byteorder='big') + k2\n",
    "    if oracle(P0, local=True, key=key) == P32:\n",
    "        print(\"Correct key 2:\", k)\n"
   ]
  },
  {
   "cell_type": "code",
   "execution_count": 318,
   "id": "4c749e7e",
   "metadata": {},
   "outputs": [],
   "source": [
    "key = int.to_bytes(3091475, 3, byteorder='big') + int.to_bytes(4114859, 3, byteorder='big')"
   ]
  },
  {
   "cell_type": "code",
   "execution_count": 319,
   "id": "d6871f65",
   "metadata": {},
   "outputs": [
    {
     "data": {
      "text/plain": [
       "True"
      ]
     },
     "execution_count": 319,
     "metadata": {},
     "output_type": "execute_result"
    }
   ],
   "source": [
    "oracle(P33, local=True, key=key) == P1"
   ]
  },
  {
   "cell_type": "code",
   "execution_count": 321,
   "id": "8153f435",
   "metadata": {},
   "outputs": [
    {
     "name": "stdout",
     "output_type": "stream",
     "text": [
      "b'flag{sLiDE_ATtaCk_rEaLlY_atTACks_sLIDe_CiPHEr}\\x02\\x02'\n"
     ]
    }
   ],
   "source": [
    "enc_scrambled = bytes.fromhex('c277ea842f8f07bb4ab29e90c5edc378acc1209fab9ff05ce0cb9be6ca2878f83de8c10799a29ce0e46f20b80eeb143a')\n",
    "enc_xor_key = bytes.fromhex('14f31dea86473b80023a46d1f329baa7477d1fb12f51f0873bb65d71b80efa6ff7e479f96cd47586aa7e2acf791bff1c')\n",
    "\n",
    "scrambled = decrypt(enc_scrambled, key) \n",
    "xor_key = decrypt(enc_xor_key, key) \n",
    "flag_hard_padded = bytes(\n",
    "        [a ^ b for a, b in zip(scrambled, xor_key)]\n",
    "    )\n",
    "print(flag_hard_padded)"
   ]
  }
 ],
 "metadata": {
  "kernelspec": {
   "display_name": "Python [conda env:.conda-geek]",
   "language": "python",
   "name": "conda-env-.conda-geek-py"
  },
  "language_info": {
   "codemirror_mode": {
    "name": "ipython",
    "version": 3
   },
   "file_extension": ".py",
   "mimetype": "text/x-python",
   "name": "python",
   "nbconvert_exporter": "python",
   "pygments_lexer": "ipython3",
   "version": "3.11.10"
  }
 },
 "nbformat": 4,
 "nbformat_minor": 5
}
