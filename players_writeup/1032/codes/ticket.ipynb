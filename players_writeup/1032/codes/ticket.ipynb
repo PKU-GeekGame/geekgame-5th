{
 "cells": [
  {
   "cell_type": "code",
   "execution_count": 752,
   "id": "f3478a39",
   "metadata": {},
   "outputs": [],
   "source": [
    "import random\n",
    "import time\n",
    "import base64\n",
    "import json\n",
    "\n",
    "# pip install cryptography\n",
    "from cryptography.hazmat.primitives.ciphers import Cipher, algorithms, modes\n",
    "\n",
    "try:\n",
    "    from flag import getflag\n",
    "except Exception:\n",
    "    def getflag(lv):\n",
    "        return 'fake{not-the-real-flag}'\n",
    "    \n",
    "try:\n",
    "    from secret import AES_KEYS, AES_TWEAKS\n",
    "except Exception:\n",
    "    import secrets\n",
    "    AES_KEYS = [secrets.token_bytes(64) for _ in range(3)]\n",
    "    AES_TWEAKS = [secrets.token_bytes(16) for _ in range(3)]\n"
   ]
  },
  {
   "cell_type": "code",
   "execution_count": 760,
   "id": "1dc91518",
   "metadata": {},
   "outputs": [],
   "source": [
    "def gen_token():\n",
    "    ALPHABET='qwertyuiopasdfghjklzxcvbnm1234567890'\n",
    "    LENGTH=16\n",
    "    return ''.join([random.choice(ALPHABET) for _ in range(LENGTH)])\n",
    "\n",
    "def mosaic_filter(s):\n",
    "    #return s\n",
    "    if len(s)<=6:\n",
    "        return '*'*len(s)\n",
    "    else:\n",
    "        return s[:4] + '*'*(len(s)-4)\n",
    "    \n",
    "def gen_ticket(level, name, stuid, flag):\n",
    "    if level not in [\"1\", \"2\", \"3\"]:\n",
    "        return 'Error: 无效的关卡'\n",
    "    l = int(level) - 1\n",
    "    \n",
    "    #print(name, len(name))\n",
    "    if not 0<len(name)<=[99,22,18][l]:\n",
    "        return 'Error: 姓名长度不正确'\n",
    "    if not (len(stuid)==10 and stuid.isdigit()):\n",
    "        return 'Error: 学号格式不正确'\n",
    "    \n",
    "    match l:\n",
    "        case 0:        \n",
    "            data = {\n",
    "                'stuid': stuid,\n",
    "                'name': name,\n",
    "                'flag': flag,\n",
    "                'timestamp': int(time.time()),\n",
    "            }\n",
    "        case 1:        \n",
    "            data = {\n",
    "                'stuid': stuid,\n",
    "                'name': name,\n",
    "                'flag': flag,\n",
    "                'code': gen_token(),\n",
    "                'timestamp': int(time.time()),\n",
    "            }\n",
    "        case 2:        \n",
    "            data = {\n",
    "                'stuid': stuid,\n",
    "                'code': gen_token(),\n",
    "                'name': name,\n",
    "                'flag': flag,\n",
    "            }\n",
    "    print(json.dumps(data).encode())\n",
    "    cipher = Cipher(algorithms.AES(AES_KEYS[l]), modes.XTS(AES_TWEAKS[l])).encryptor()\n",
    "    ct_bytes = cipher.update(json.dumps(data).encode())\n",
    "    enc_out = base64.b64encode(ct_bytes).decode()\n",
    "    \n",
    "    return enc_out\n",
    "    \n",
    "def query_ticket(level, ticket):\n",
    "    if level not in [\"1\", \"2\", \"3\"]:\n",
    "        return 'Error: 无效的关卡'\n",
    "    l = int(level) - 1\n",
    "    ticket_b64 = ticket.strip()\n",
    "    if len(ticket_b64) > 1024:\n",
    "        return 'Error: 太长了'\n",
    "    \n",
    "    try:\n",
    "        ticket = base64.b64decode(ticket_b64)\n",
    "        cipher = Cipher(algorithms.AES(AES_KEYS[l]), modes.XTS(AES_TWEAKS[l])).decryptor()\n",
    "        plaintext = cipher.update(ticket)\n",
    "    except Exception as e:\n",
    "        print(e)\n",
    "        return 'Error: 解密购票凭证失败'\n",
    "    \n",
    "    print(plaintext)\n",
    "    print(plaintext.decode('utf-8', 'ignore'))\n",
    "\n",
    "    try:\n",
    "        data = json.loads(plaintext.decode('utf-8', 'ignore'))\n",
    "    except Exception as e:\n",
    "        print(e)\n",
    "        return 'Error: 信息解码失败'\n",
    "    \n",
    "    return data\n",
    "    \n",
    "def flag(level, ticket, code):\n",
    "    if level not in [\"1\", \"2\", \"3\"]:\n",
    "        return 'Error: 无效的关卡'\n",
    "    l = int(level) - 1\n",
    "    ticket_b64 = ticket.strip()\n",
    "    code = code\n",
    "    if len(ticket_b64) > 1024 or len(code) > 1024:\n",
    "        return 'Error: 太长了'\n",
    "    \n",
    "    try:\n",
    "        ticket = base64.b64decode(ticket_b64)\n",
    "        cipher = Cipher(algorithms.AES(AES_KEYS[l]), modes.XTS(AES_TWEAKS[l])).decryptor()\n",
    "        plaintext = cipher.update(ticket)\n",
    "    except Exception as e:\n",
    "        print(e)\n",
    "        return 'Error: 解密购票凭证失败'\n",
    "    \n",
    "    try:\n",
    "        data = json.loads(plaintext.decode('utf-8', 'ignore'))\n",
    "    except Exception as e:\n",
    "        print(e)\n",
    "        return 'Error: 信息解码失败'\n",
    "        \n",
    "    if data['flag']!=True:\n",
    "        return 'Error: 您未选择需要礼品'\n",
    "        \n",
    "    if l!=0 and code!=data['code']:\n",
    "        return 'Error: 兑换码错误'\n",
    "    \n",
    "    return '<p>兑换成功，这是你的礼品：</p><br><p>'+getflag(l)+'</p>'"
   ]
  },
  {
   "cell_type": "markdown",
   "id": "4c4eb843",
   "metadata": {},
   "source": [
    "## flag1"
   ]
  },
  {
   "cell_type": "code",
   "execution_count": 542,
   "id": "d87d0a62",
   "metadata": {},
   "outputs": [
    {
     "data": {
      "text/plain": [
       "48"
      ]
     },
     "execution_count": 542,
     "metadata": {},
     "output_type": "execute_result"
    }
   ],
   "source": [
    "len('{\"stuid\": \"1234567890\", \"name\": \"11111\", \"flag\":')"
   ]
  },
  {
   "cell_type": "code",
   "execution_count": 113,
   "id": "90429bd5",
   "metadata": {},
   "outputs": [
    {
     "data": {
      "text/plain": [
       "64"
      ]
     },
     "execution_count": 113,
     "metadata": {},
     "output_type": "execute_result"
    }
   ],
   "source": [
    "len('{\"stuid\": \"1234567890\", \"name\": \"11111          true            ')"
   ]
  },
  {
   "cell_type": "code",
   "execution_count": 114,
   "id": "a0b31da9",
   "metadata": {},
   "outputs": [
    {
     "data": {
      "text/plain": [
       "64"
      ]
     },
     "execution_count": 114,
     "metadata": {},
     "output_type": "execute_result"
    }
   ],
   "source": [
    "len('{\"stuid\": \"1234567890\", \"name\": \"111111111111111\", \"flag\": false')"
   ]
  },
  {
   "cell_type": "code",
   "execution_count": 163,
   "id": "2aab423c",
   "metadata": {},
   "outputs": [
    {
     "name": "stdout",
     "output_type": "stream",
     "text": [
      "b'{\"stuid\": \"1234567890\", \"name\": \"11111\", \"flag\": false, \"timestamp\": 1760774539}'\n",
      "/SROc1TBzvZHwFFp8XCxI//+y/F5bnuaP0P7BW43hKsWXiP7IAPouZ1pJcyZLi03B/C7RyL/rbdIuMXEuVy6MvenCBF8o3CNw37SxnCEWV8=\n"
     ]
    }
   ],
   "source": [
    "s1 = gen_ticket(level=\"1\", name=\"11111\", stuid=\"1234567890\", flag=False)\n",
    "print(s1)"
   ]
  },
  {
   "cell_type": "code",
   "execution_count": 207,
   "id": "f57df4cb",
   "metadata": {},
   "outputs": [
    {
     "name": "stdout",
     "output_type": "stream",
     "text": [
      "b'{\"stuid\": \"1234567890\", \"name\": \"11111          true                 \", \"flag\": false, \"timestamp\": 1760774743}'\n",
      "/SROc1TBzvZHwFFp8XCxI//+y/F5bnuaP0P7BW43hKvut/bd31pP+ZXFYScHoB3eR7Kmmt+leZWYCMvLHXIDnnRl6EchRXrCiZ5IK2Fd0GSPTDkoB8V3CdJmIL0eoavUWvW3esAiSrlTO5HkJVGx\n"
     ]
    }
   ],
   "source": [
    "s2 = gen_ticket(level=\"1\", name=\"11111          true                 \", stuid=\"1234567890\", flag=False)\n",
    "print(s2)"
   ]
  },
  {
   "cell_type": "code",
   "execution_count": 208,
   "id": "9e368a9f",
   "metadata": {},
   "outputs": [
    {
     "name": "stdout",
     "output_type": "stream",
     "text": [
      "b'{\"stuid\": \"1234567890\", \"name\": \"111111111111111\", \"flag\": false, \"timestamp\": 1760774743}'\n",
      "/SROc1TBzvZHwFFp8XCxI//+y/F5bnuaP0P7BW43hKtOsM5cNXHBHLdo0Zf7Lwf+4QV4a9vTKDS2BBvpzVSjBwAslCJKdL5f7WQ24gg0QxXApiZPiCuGnWS4\n"
     ]
    }
   ],
   "source": [
    "s3 = gen_ticket(level=\"1\", name=\"111111111111111\", stuid=\"1234567890\", flag=False)\n",
    "print(s3)"
   ]
  },
  {
   "cell_type": "code",
   "execution_count": 209,
   "id": "e0882cca",
   "metadata": {},
   "outputs": [
    {
     "name": "stdout",
     "output_type": "stream",
     "text": [
      "b'{\"stuid\": \"1234567890\", \"name\": \"11111\", \"flag\":true            , \"timestamp\": 1760774743}'\n",
      "{\"stuid\": \"1234567890\", \"name\": \"11111\", \"flag\":true            , \"timestamp\": 1760774743}\n"
     ]
    },
    {
     "data": {
      "text/plain": [
       "{'stuid': '1234567890', 'name': '11111', 'flag': True, 'timestamp': 1760774743}"
      ]
     },
     "execution_count": 209,
     "metadata": {},
     "output_type": "execute_result"
    }
   ],
   "source": [
    "s4 = base64.b64decode(s1)[:48] + base64.b64decode(s2)[48:64] + base64.b64decode(s3)[64:]\n",
    "s4 = base64.b64encode(s4)\n",
    "query_ticket(level=\"1\", ticket=s4)"
   ]
  },
  {
   "cell_type": "code",
   "execution_count": null,
   "id": "8a002bab",
   "metadata": {},
   "outputs": [],
   "source": []
  },
  {
   "cell_type": "code",
   "execution_count": 124,
   "id": "deaa3b8d",
   "metadata": {},
   "outputs": [],
   "source": [
    "s1 = \"XXM5N+IP9SqiPOIkLC2IbaArJZKVzDd7YIXYzVvyIv8ENII+cKhI0/wi9vYIKPt1iifaQjdXtTg3JDlAV7lyEfMNKaN2AnF6DMQPKtNICz4=\"\n",
    "s2 = \"XXM5N+IP9SqiPOIkLC2IbaArJZKVzDd7YIXYzVvyIv8oBNOtTDfXrhiY6lMJ8zMb259cvocUqw/R+v/uxcSToY/vR4W5136X7u6caMDv1hPpEXqotiJgAoqo/HzXgNL+R9bboIxbv377bQ==\"\n",
    "s3 = \"XXM5N+IP9SqiPOIkLC2IbaArJZKVzDd7YIXYzVvyIv/+PB49dQzovCnfA6gzEvetRR7HGI1YLraJuwXHNRoqrtxR1gG7B6cEAFwi+XtTrkpKg5B2+yqS5KkF\""
   ]
  },
  {
   "cell_type": "code",
   "execution_count": 125,
   "id": "47287ac0",
   "metadata": {},
   "outputs": [
    {
     "data": {
      "text/plain": [
       "b'XXM5N+IP9SqiPOIkLC2IbaArJZKVzDd7YIXYzVvyIv8ENII+cKhI0/wi9vYIKPt1259cvocUqw/R+v/uxcSTodxR1gG7B6cEAFwi+XtTrkpKg5B2+yqS5KkF'"
      ]
     },
     "execution_count": 125,
     "metadata": {},
     "output_type": "execute_result"
    }
   ],
   "source": [
    "s4 = base64.b64decode(s1)[:48] + base64.b64decode(s2)[48:64] + base64.b64decode(s3)[64:]\n",
    "s4 = base64.b64encode(s4)\n",
    "s4"
   ]
  },
  {
   "cell_type": "markdown",
   "id": "bb82256b",
   "metadata": {},
   "source": [
    "## flag2"
   ]
  },
  {
   "cell_type": "code",
   "execution_count": 244,
   "id": "0ed96183",
   "metadata": {},
   "outputs": [
    {
     "data": {
      "text/plain": [
       "16"
      ]
     },
     "execution_count": 244,
     "metadata": {},
     "output_type": "execute_result"
    }
   ],
   "source": [
    "len('e, \"code\": \"wdiu')"
   ]
  },
  {
   "cell_type": "code",
   "execution_count": 916,
   "id": "aaaa5b6d",
   "metadata": {},
   "outputs": [
    {
     "name": "stdout",
     "output_type": "stream",
     "text": [
      "48\n",
      "b'{\"stuid\": \"1234567890\", \"name\": \"11111\", \"flag\": false, \"code\": \"04kfjzkpt0xhenv5\", \"timestamp\": 1761312563}'\n",
      "T6rKg9MHZJk97Qt4bAEFfnT9UlxPBldJuuJKpEVwLYYV8WwuSUisUXrTj7Vpc6KrwbQLu3KyCs9vuPTVyJLbNfn8Slpsga3RDEU+JR19Z/i+uX2RbNt7jng0rdjHFkSZFaKEu1uq8cHY5Kb/\n"
     ]
    }
   ],
   "source": [
    "print(len('{\"stuid\": \"1234567890\", \"name\": \"11111\", \"flag\":'))\n",
    "s1 = gen_ticket(level=\"2\", name=\"11111\", stuid=\"1234567890\", flag=False)\n",
    "print(s1)"
   ]
  },
  {
   "cell_type": "code",
   "execution_count": 283,
   "id": "26ce2464",
   "metadata": {},
   "outputs": [
    {
     "name": "stdout",
     "output_type": "stream",
     "text": [
      "53\n",
      "b'{\"stuid\": \"1234567890\", \"name\": \"\\\\ud83c\\\\udf55                tru\", \"flag\": false, \"code\": \"5nh5goo0dnvo9rzb\", \"timestamp\": 1760776675}'\n",
      "Jydur16yV9DAyrmJhZ+bk8KnOR6I68iUexIeyhLH0YOtTGMfewcV8Sk4hPLouqz/eWEBFy6GTAl43ECZrUzzOwJTaMb7LV731gm/XjjKXApP29iNji4rJrrfSHMzRUVFmqD+6j+l2fu86UCCXLL2O+1thut8ifdwQsT49WjkPOFWkgUANXg=\n"
     ]
    }
   ],
   "source": [
    "print(len('{\"stuid\": \"1234567890\", \"name\": \"🍕                tru')) # 每个🍕变成12字符，16字节前需要填充15字节\n",
    "s2 = gen_ticket(level=\"2\", name=\"🍕                tru\", stuid=\"1234567890\", flag=False)\n",
    "print(s2)"
   ]
  },
  {
   "cell_type": "code",
   "execution_count": 285,
   "id": "36d1719d",
   "metadata": {},
   "outputs": [
    {
     "name": "stdout",
     "output_type": "stream",
     "text": [
      "64\n",
      "b'{\"stuid\": \"1234567890\", \"name\": \"1111111111111111\", \"flag\": false, \"code\": \"hs3lsxty41hqwgvk\", \"timestamp\": 1760776693}'\n",
      "Jydur16yV9DAyrmJhZ+bk8KnOR6I68iUexIeyhLH0YNJYdE0z91+cXB8uooYmO6EjH9pMusF+ir9lxLjULtfZx4npdLeAUZVJiyWjMDQldEqlxN6iIr+nouVXmlhepdCGQCa3BwlwH293wxLJ3gaYeY79H7rios=\n"
     ]
    }
   ],
   "source": [
    "print(len('{\"stuid\": \"1234567890\", \"name\": \"1111111111111111\", \"flag\": fals'))\n",
    "s3 = gen_ticket(level=\"2\", name=\"1111111111111111\", stuid=\"1234567890\", flag=False)\n",
    "print(s3)"
   ]
  },
  {
   "cell_type": "code",
   "execution_count": 286,
   "id": "1a187d9e",
   "metadata": {},
   "outputs": [
    {
     "name": "stdout",
     "output_type": "stream",
     "text": [
      "81\n",
      "b'{\"stuid\": \"1234567890\", \"name\": \"1111\", \"flag\": false, \"code\": \"kpetc5i8drobvqi5\", \"timestamp\": 1760776693}'\n",
      "Jydur16yV9DAyrmJhZ+bk8KnOR6I68iUexIeyhLH0YOjlcj0BRM7ZjoXw3K7BvKDxnSx7Q7zXSEWq5iJw1yZGEpO6Ofzj/IYDBP+EKA88sIj1H4LwIMSkEPH9t/jUc/zCJ6fOjWbyArow4Y=\n"
     ]
    }
   ],
   "source": [
    "print(len('{\"stuid\": \"1234567890\", \"name\": \"1111\", \"flag\": false, \"code\": \"22fblcxgl7guj51m\"'))\n",
    "s4 = gen_ticket(level=\"2\", name=\"1111\", stuid=\"1234567890\", flag=False)\n",
    "print(s4)"
   ]
  },
  {
   "cell_type": "code",
   "execution_count": 287,
   "id": "7b95b39e",
   "metadata": {},
   "outputs": [
    {
     "name": "stdout",
     "output_type": "stream",
     "text": [
      "b'{\"stuid\": \"1234567890\", \"name\": \"11111\", \"flag\":             true, \"code\": \"hs3l\", \"timestamp\": 1760776693}'\n",
      "{\"stuid\": \"1234567890\", \"name\": \"11111\", \"flag\":             true, \"code\": \"hs3l\", \"timestamp\": 1760776693}\n"
     ]
    },
    {
     "data": {
      "text/plain": [
       "{'stuid': '1234567890',\n",
       " 'name': '11111',\n",
       " 'flag': True,\n",
       " 'code': 'hs3l',\n",
       " 'timestamp': 1760776693}"
      ]
     },
     "execution_count": 287,
     "metadata": {},
     "output_type": "execute_result"
    }
   ],
   "source": [
    "s5 = base64.b64decode(s1)[:48] + base64.b64decode(s2)[48:64] + base64.b64decode(s3)[64:80] + base64.b64decode(s4)[80:]\n",
    "s5 = base64.b64encode(s5)\n",
    "query_ticket(level=\"2\", ticket=s5)"
   ]
  },
  {
   "cell_type": "code",
   "execution_count": 288,
   "id": "f1731c52",
   "metadata": {},
   "outputs": [],
   "source": [
    "s1 = \"nqwnvMWhV6vxWdPNzqsUDtep2B/0lF2OJ0GedfOM1KVB9PC3j+pNcjAQwFWQpMG+CEqj4CVmPulTjaxX0bMh7HGPPfhFDFuhAGTLPBadohkE6+RSIboUXrC2oV1fdkE7xOgqo2XEO+HhZtkz\"\n",
    "s2 = \"nqwnvMWhV6vxWdPNzqsUDtep2B/0lF2OJ0GedfOM1KUsVVvK4pCIOoeJeam35fQ7jxAGiuA3qY5eQdoQytdIfRkkmSI+mu2Hou/f7ziCZJIofN8aEGCjkyWNycMKY2exSmZVBXP9ReZRjJje9h2sSyHJybX/JF8TVig5kTCZY16hYB73Piw=\"\n",
    "s3 = \"nqwnvMWhV6vxWdPNzqsUDtep2B/0lF2OJ0GedfOM1KUWXti6bPkdNEBsIMicO0dAc3thIQYGmww4V/PuDqvpKdiafDujshc+7x0u6ewsg14zt76MqkPnDHFJ1GwxCMVIR6ft8hcHf5i7nh/Rk/2K1LplRmKpxcw=\"\n",
    "s4 = \"nqwnvMWhV6vxWdPNzqsUDtep2B/0lF2OJ0GedfOM1KXRfzO6mHN9RK6Sveyc33iDIRTQRpgRBD+llQxoIHCWwux3TkVYJoivAF+Ogn3t1ztD6VP8VqeJxRIk700W5aNsnveuZxo4kNUMBIs=\""
   ]
  },
  {
   "cell_type": "code",
   "execution_count": 289,
   "id": "96313279",
   "metadata": {},
   "outputs": [
    {
     "data": {
      "text/plain": [
       "b'nqwnvMWhV6vxWdPNzqsUDtep2B/0lF2OJ0GedfOM1KVB9PC3j+pNcjAQwFWQpMG+jxAGiuA3qY5eQdoQytdIfdiafDujshc+7x0u6ewsg15D6VP8VqeJxRIk700W5aNsnveuZxo4kNUMBIs='"
      ]
     },
     "execution_count": 289,
     "metadata": {},
     "output_type": "execute_result"
    }
   ],
   "source": [
    "s5 = base64.b64decode(s1)[:48] + base64.b64decode(s2)[48:64] + base64.b64decode(s3)[64:80] + base64.b64decode(s4)[80:]\n",
    "s5 = base64.b64encode(s5)\n",
    "s5 # code同s3前4位"
   ]
  },
  {
   "cell_type": "markdown",
   "id": "3a2d35e4",
   "metadata": {},
   "source": [
    "## flag3"
   ]
  },
  {
   "cell_type": "code",
   "execution_count": 921,
   "id": "1ca1b0b9",
   "metadata": {
    "scrolled": true
   },
   "outputs": [
    {
     "data": {
      "text/plain": [
       "(14, 8)"
      ]
     },
     "execution_count": 921,
     "metadata": {},
     "output_type": "execute_result"
    }
   ],
   "source": [
    "len(json.dumps(\"𝟘\")), len(json.dumps(\"２\")) # 去掉引号，每个全角加5，花体加11"
   ]
  },
  {
   "cell_type": "code",
   "execution_count": 922,
   "id": "26cd9722",
   "metadata": {},
   "outputs": [
    {
     "data": {
      "text/plain": [
       "True"
      ]
     },
     "execution_count": 922,
     "metadata": {},
     "output_type": "execute_result"
    }
   ],
   "source": [
    "\"𝟘２３１２３１２３１\".isdigit()"
   ]
  },
  {
   "cell_type": "code",
   "execution_count": 923,
   "id": "00f37925",
   "metadata": {},
   "outputs": [
    {
     "name": "stdout",
     "output_type": "stream",
     "text": [
      "33\n",
      "b'{\"stuid\": \"\\\\uff11\\\\uff12\\\\uff134567890\", \"code\": \"cn383z64slkayskw\", \"name\": \"111\", \"flag\": false}'\n",
      "/4N5udmtBuHUtE1NpkomWym1arueh42BMVVgU+7nQx1MrM+NuaViZoao7w4VIrwlFxuZmy/dQq5D5PWfnEQwk92lS/QSR40IgbX3iRq0lQV1WgNDQTHo5/hPQ1W+APgP\n"
     ]
    }
   ],
   "source": [
    "print(len('{\"stuid\": \"１２３4567890\", \"code\": \"')) # +15，刚好到48\n",
    "s1 = gen_ticket(level=\"3\", name=\"111\", stuid=\"１２３4567890\", flag=False)\n",
    "print(s1)"
   ]
  },
  {
   "cell_type": "code",
   "execution_count": 924,
   "id": "5980fccc",
   "metadata": {},
   "outputs": [
    {
     "name": "stdout",
     "output_type": "stream",
     "text": [
      "21\n",
      "b'{\"stuid\": \"\\\\uff11\\\\uff11\\\\ud835\\\\udfd8\\\\ud835\\\\udfd856789\\\\ud835\\\\udfd8\", \"code\": \"o0slgpbidorjpd10\", \"name\": \"111\", \"flag\": false}'\n",
      "/4N5udmtBuHUtE1NpkomW6cJ7NA+InBPQKAap3uypAIXUdFkFwyztKdDcqISVK1TXeBi8nYFfpRlVyLPPyL//VwMop1GE0K3F4EWRm+DP5kKhklJSUOLwqyJm/WR9c34vGx65lv2EySsJ/VygtYtG4NVv7M/WcxH+NJLrg==\n"
     ]
    }
   ],
   "source": [
    "print(len('{\"stuid\": \"１１𝟘𝟘56789𝟘')) # 3个花体2个全角，刚好补到64，后16位是6789𝟘\n",
    "s2 = gen_ticket(level=\"3\", name=\"111\", stuid=\"１１𝟘𝟘56789𝟘\", flag=False)\n",
    "print(s2)"
   ]
  },
  {
   "cell_type": "code",
   "execution_count": 925,
   "id": "04b5201a",
   "metadata": {},
   "outputs": [
    {
     "name": "stdout",
     "output_type": "stream",
     "text": [
      "49\n",
      "21\n",
      "b'{\"stuid\": \"\\\\uff11\\\\uff11\\\\uff114567890\", \"code\": \"5tyadfawo0xq91ua\", \"name\": \"\\\\uff11\\\\ud835\\\\udfd8--1234\\\\ud835\\\\udfd8\", \"flag\": false}'\n",
      "/4N5udmtBuHUtE1NpkomW2/2nbjve4NfckrmkioN+ZNMrM+NuaViZoao7w4VIrwliZjxdOv4udvJ3YlXPWWQ6LHnmA+BPmmTHvtffFfII5PbjSQ31ObPYZ2aAoeM7MiRB4dT0qAx0FOETi9ndVj0DB6Ek6k2/AYTL0049JwJxbp7\n"
     ]
    }
   ],
   "source": [
    "# 密文窃取\n",
    "print(len('{\"stuid\": \"１１１4567890\", \"code\": \"cnab0xevrpx8h4y3')) # 3个全角，补到64\n",
    "print(len('\", \"name\": \"１𝟘--1234𝟘')) # 前四个字符填充到96，name在112后面闭合，中间部分用来偷密文\n",
    "s4 = gen_ticket(level=\"3\", name=\"１𝟘--1234𝟘\", stuid=\"１１１4567890\", flag=False)\n",
    "print(s4)"
   ]
  },
  {
   "cell_type": "code",
   "execution_count": 932,
   "id": "2285ebb9",
   "metadata": {},
   "outputs": [
    {
     "name": "stdout",
     "output_type": "stream",
     "text": [
      "49\n",
      "32\n",
      "8\n",
      "b'{\"stuid\": \"\\\\uff11\\\\uff11\\\\uff114567890\", \"code\": \"gajrvz9mv6kg6gfu\", \"name\": \"OtzSYSuLqXx\", \"flag\": false}'\n",
      "/4N5udmtBuHUtE1NpkomW2/2nbjve4NfckrmkioN+ZNMrM+NuaViZoao7w4VIrwl1C3w8Hv6rQXWHu42O8vZg+3yHCNISsMn4q8OIfSpxJ6sgqJIP0Jo7IDAyVUPGx3+zXlLwfJN3+g=\n"
     ]
    }
   ],
   "source": [
    "print(len('{\"stuid\": \"１１１4567890\", \"code\": \"cnab0xevrpx8h4y3')) # 3个全角，补到64\n",
    "print(len('\", \"name\": \"12345678901\", \"flag\"')) # 这一段补到96，最后一块是需要偷出来的密文\n",
    "print(len(': false}'))\n",
    "\n",
    "tmp = ''.join(random.choices(string.ascii_letters, k=11))\n",
    "s3 = gen_ticket(level=\"3\", name=tmp, stuid=\"１１１4567890\", flag=False)\n",
    "print(s3)"
   ]
  },
  {
   "cell_type": "code",
   "execution_count": 933,
   "id": "197d69c1",
   "metadata": {},
   "outputs": [
    {
     "data": {
      "text/plain": [
       "b'/4N5udmtBuHUtE1NpkomWym1arueh42BMVVgU+7nQx1MrM+NuaViZoao7w4VIrwlXeBi8nYFfpRlVyLPPyL//bHnmA+BPmmTHvtffFfII5PbjSQ31ObPYZ2aAoeM7MiRrIKiSD9CaOyAwMlVDxsd/h6Ek6k2/AYTL0049JwJxbp7'"
      ]
     },
     "execution_count": 933,
     "metadata": {},
     "output_type": "execute_result"
    }
   ],
   "source": [
    "s5 = base64.b64decode(s1)[:48] + base64.b64decode(s2)[48:64] + base64.b64decode(s4)[64:96] + base64.b64decode(s3)[80:96] + base64.b64decode(s4)[112:]\n",
    "s5 = base64.b64encode(s5)\n",
    "s5 # code为6789𝟘"
   ]
  },
  {
   "cell_type": "code",
   "execution_count": 934,
   "id": "b030ed1e",
   "metadata": {},
   "outputs": [
    {
     "name": "stdout",
     "output_type": "stream",
     "text": [
      "b'{\"stuid\": \"\\\\uff11\\\\uff12\\\\uff134567890\", \"code\": \"6789\\\\ud835\\\\udfd8\", \"name\": \"\\\\uff11\\\\ud835\\\\udfd8--: false}2\\xf6\\xaa\\xc3\\x89\\xc8\\xaa\\x88\", \"flag\": false}'\n",
      "{\"stuid\": \"\\uff11\\uff12\\uff134567890\", \"code\": \"6789\\ud835\\udfd8\", \"name\": \"\\uff11\\ud835\\udfd8--: false}2ÉȪ\", \"flag\": false}\n"
     ]
    },
    {
     "data": {
      "text/plain": [
       "{'stuid': '１２３4567890',\n",
       " 'code': '6789𝟘',\n",
       " 'name': '１𝟘--: false}2ÉȪ',\n",
       " 'flag': False}"
      ]
     },
     "execution_count": 934,
     "metadata": {},
     "output_type": "execute_result"
    }
   ],
   "source": [
    "query_ticket(level=\"3\", ticket=s5)"
   ]
  },
  {
   "cell_type": "markdown",
   "id": "15e8008d",
   "metadata": {},
   "source": [
    "## flag3 online"
   ]
  },
  {
   "cell_type": "code",
   "execution_count": 882,
   "id": "e62a9908",
   "metadata": {},
   "outputs": [],
   "source": [
    "import requests\n",
    "import re\n",
    "import string\n",
    "import html\n",
    "\n",
    "baseurl = \"https://prob14-bilm4vsb.geekgame.pku.edu.cn/\"\n",
    "\n",
    "def my_gen(name, stuid, online=True):\n",
    "    if online:\n",
    "        url = baseurl + \"3/gen-ticket\"\n",
    "        params = {\n",
    "            \"name\": name,\n",
    "            \"stuid\": stuid\n",
    "        }\n",
    "        response = requests.get(url, params=params)\n",
    "        pattern = r'：</p><br><p>(.*?)</p>'\n",
    "        matches = re.findall(pattern, response.text)\n",
    "        if matches:\n",
    "            #print(matches[0])\n",
    "            return matches[0]\n",
    "        else:\n",
    "            print(response.text)\n",
    "    else:\n",
    "        return gen_ticket(level=\"3\", name=name, stuid=stuid, flag=False)\n",
    "\n",
    "def my_query(ticket, online=True):\n",
    "    if online:\n",
    "        url = baseurl + \"3/query-ticket\"\n",
    "        params = {\"ticket\": ticket}\n",
    "        response = requests.get(url, params=params)\n",
    "        pattern = r'姓名：</b> １𝟘--(.*?)</p>'\n",
    "        matches = re.findall(pattern, response.text)\n",
    "        if matches:\n",
    "            return html.unescape(matches[0])\n",
    "        else:\n",
    "            return None\n",
    "    else:\n",
    "        return query_ticket(level=\"3\", ticket=ticket)"
   ]
  },
  {
   "cell_type": "code",
   "execution_count": 856,
   "id": "fbc5d589",
   "metadata": {},
   "outputs": [
    {
     "data": {
      "text/plain": [
       "': false}K+bO'"
      ]
     },
     "execution_count": 856,
     "metadata": {},
     "output_type": "execute_result"
    }
   ],
   "source": [
    "online = True\n",
    "s1 = my_gen(name=\"111\", stuid=\"１２３4567890\", online=online)\n",
    "s2 = my_gen(name=\"111\", stuid=\"１１𝟘𝟘56789𝟘\", online=online)\n",
    "s4 = my_gen(name=\"１𝟘--1234𝟘\", stuid=\"１１１4567890\", online=online)\n",
    "\n",
    "tmp = ''.join(random.choices(string.ascii_letters, k=11))\n",
    "s3 = my_gen(name=tmp, stuid=\"１１１4567890\", online=online)\n",
    "\n",
    "s5 = base64.b64decode(s1)[:48] + base64.b64decode(s2)[48:64] + base64.b64decode(s4)[64:96] + base64.b64decode(s3)[80:96] + base64.b64decode(s4)[112:]\n",
    "s5 = base64.b64encode(s5).decode() # code为6789𝟘\n",
    "my_query(ticket=s5, online=online)"
   ]
  },
  {
   "cell_type": "code",
   "execution_count": 898,
   "id": "b5d00012",
   "metadata": {
    "scrolled": true
   },
   "outputs": [
    {
     "name": "stdout",
     "output_type": "stream",
     "text": [
      "13\n",
      "13\n",
      "15\n",
      "11\n",
      "14\n",
      "11\n",
      "11\n",
      "11\n",
      "12\n",
      "10\n",
      "10\n",
      "12\n",
      "15\n",
      "13\n",
      "12\n",
      "12\n",
      "11\n",
      "15\n",
      "11\n",
      "14\n",
      "14\n",
      "11\n",
      "11\n",
      "12\n",
      "11\n",
      "13\n",
      "10\n",
      "13\n",
      "11\n",
      "12\n",
      "11\n",
      "12\n",
      "9\n",
      "12\n",
      "12\n",
      "12\n",
      "13\n",
      "11\n",
      "13\n",
      "13\n",
      "13\n",
      "11\n",
      "10\n",
      "13\n",
      "12\n",
      "8\n",
      "10\n",
      "11\n",
      "14\n",
      "12\n",
      "13\n",
      "9\n",
      "12\n",
      "14\n",
      "10\n",
      "13\n",
      "14\n",
      "13\n",
      "11\n",
      "13\n",
      "15\n",
      "12\n",
      "13\n",
      "14\n",
      "15\n",
      "12\n",
      "13\n",
      "11\n",
      "12\n",
      "12\n",
      "12\n",
      "13\n",
      "13\n",
      "10\n",
      "11\n",
      "9\n",
      "15\n",
      "10\n",
      "13\n",
      "13\n",
      "11\n",
      "13\n",
      "10\n",
      "11\n",
      "12\n",
      "12\n",
      "12\n",
      "11\n",
      "14\n",
      "14\n",
      "14\n",
      "13\n",
      "12\n",
      "13\n",
      "12\n",
      "13\n",
      "12\n",
      "13\n",
      "13\n",
      "12\n",
      "13\n",
      "16\n"
     ]
    }
   ],
   "source": [
    "for i in range(1000):\n",
    "    tmp = ''.join(random.choices(string.ascii_letters, k=11))\n",
    "    s3 = my_gen(name=tmp, stuid=\"１１１4567890\", online=online)\n",
    "\n",
    "    s5 = base64.b64decode(s1)[:48] + base64.b64decode(s2)[48:64] + base64.b64decode(s4)[64:96] + base64.b64decode(s3)[80:96] + base64.b64decode(s4)[112:]\n",
    "    s5 = base64.b64encode(s5).decode() # code为6789𝟘\n",
    "    res = my_query(ticket=s5, online=online)\n",
    "    if res:\n",
    "        print(len(res.encode()))\n",
    "        if len(res.encode()) == 16:\n",
    "            break"
   ]
  },
  {
   "cell_type": "code",
   "execution_count": 900,
   "id": "a17a13e0",
   "metadata": {},
   "outputs": [
    {
     "data": {
      "text/plain": [
       "b': false}\\xd9\\xb78\\xd9\\x99H-G'"
      ]
     },
     "execution_count": 900,
     "metadata": {},
     "output_type": "execute_result"
    }
   ],
   "source": [
    "res.encode()"
   ]
  },
  {
   "cell_type": "code",
   "execution_count": 903,
   "id": "0708a0a9",
   "metadata": {},
   "outputs": [
    {
     "data": {
      "text/plain": [
       "16"
      ]
     },
     "execution_count": 903,
     "metadata": {},
     "output_type": "execute_result"
    }
   ],
   "source": [
    "tar = base64.b64decode(s3)[96:104] + res.encode()[8:]\n",
    "len(tar)"
   ]
  },
  {
   "cell_type": "code",
   "execution_count": 909,
   "id": "a2433b52",
   "metadata": {},
   "outputs": [
    {
     "name": "stdout",
     "output_type": "stream",
     "text": [
      "61\n",
      "16\n",
      "7\n",
      "Utw4jUMDtLHL6i0pdB0QgFoy+sWOrtEfeF4p5gLNdAhZq5rLGtdNxzfQA/AvbuOdwRWqxxO1rj4RBl7cBX7O3lIgJF2hqvaGR4MlhpzlYTq5G0xPklrwNg8SGr2RiWRTf9SDKaG0aOxi+x2z7Jf617oSoVywABGLCPpWCoSZXbfC\n"
     ]
    }
   ],
   "source": [
    "print(len('{\"stuid\": \"１１１１１１１890\", \"code\": \"cnab0xevrpx8h4y3\", \"name\": \"')) # 7个全角，补到96\n",
    "print(len(':true          }')) # 这一段补到112\n",
    "print(len(' false}'))\n",
    "s6 = my_gen(name=\":true          }\", stuid=\"１１１１１１１890\", online=online)\n",
    "print(s6)"
   ]
  },
  {
   "cell_type": "code",
   "execution_count": 910,
   "id": "e07cfe6a",
   "metadata": {},
   "outputs": [
    {
     "data": {
      "text/plain": [
       "'Utw4jUMDtLHL6i0pdB0QgJivB4qTi0ZH6D5lT9oX4HaoXuZtdu97qGwNC7+DeKUUj4FcY4biHv1K5rPK7YfPMmOyU2sTUokXUEFPJpdj73EdoLce/sZF3dm3ONmZSC1Hf9SDKaG0aOxi+x2z7Jf61w=='"
      ]
     },
     "execution_count": 910,
     "metadata": {},
     "output_type": "execute_result"
    }
   ],
   "source": [
    "s7 = base64.b64decode(s1)[:48] + base64.b64decode(s2)[48:64] + base64.b64decode(s3)[64:80] + tar + base64.b64decode(s6)[96:112]\n",
    "s7 = base64.b64encode(s7).decode()\n",
    "s7"
   ]
  },
  {
   "cell_type": "code",
   "execution_count": null,
   "id": "dd6c0af5",
   "metadata": {},
   "outputs": [],
   "source": []
  },
  {
   "cell_type": "code",
   "execution_count": 938,
   "id": "4c7602c8",
   "metadata": {},
   "outputs": [
    {
     "data": {
      "text/plain": [
       "128"
      ]
     },
     "execution_count": 938,
     "metadata": {},
     "output_type": "execute_result"
    }
   ],
   "source": [
    "# 不会被ignore的字符数量\n",
    "cnt = 0\n",
    "for i in range(256):\n",
    "    c = int.to_bytes(i)\n",
    "    d = c.decode(\"utf-8\", \"ignore\")\n",
    "    if len(d) == 1:\n",
    "        cnt += 1\n",
    "cnt"
   ]
  }
 ],
 "metadata": {
  "kernelspec": {
   "display_name": "Python [conda env:.conda-geek]",
   "language": "python",
   "name": "conda-env-.conda-geek-py"
  },
  "language_info": {
   "codemirror_mode": {
    "name": "ipython",
    "version": 3
   },
   "file_extension": ".py",
   "mimetype": "text/x-python",
   "name": "python",
   "nbconvert_exporter": "python",
   "pygments_lexer": "ipython3",
   "version": "3.11.10"
  }
 },
 "nbformat": 4,
 "nbformat_minor": 5
}
