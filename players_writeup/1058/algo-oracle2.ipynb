{
 "cells": [
  {
   "cell_type": "markdown",
   "id": "cf390d39",
   "metadata": {},
   "source": [
    "# 千年讲堂的方形轮子 II\n",
    "\n",
    "抛开Flag3不谈，本题是一道纯Web/Misc。Unicode is Magic!\n",
    "\n",
    "### Flag 1 \n",
    "\n",
    "> Flag 1：XTS模式除了最后两个分组，其他分组的加密结果只和该分组明文以及分组位置有关，和其他分组无关。于是你可以先生成多个ticket，再用它们拼凑成一个新ticket。注意JSON里面对象前后、字段间以及字段的key和value间的空格都是无关紧要的。\n",
    "\n",
    "XTS 的每一个数据块是独立加密的，并不依赖于其它数据块。\n",
    "AES-XTS 的分组大小是 16 字节 (128 位)，实际上我们可以任意构造数据块把一个payload给拼出来。先从题目源码里抽取一些用的上的部分，然后写点辅助函数方便我们解题："
   ]
  },
  {
   "cell_type": "code",
   "execution_count": 34,
   "id": "b8741b54",
   "metadata": {},
   "outputs": [
    {
     "data": {
      "text/plain": [
       "[b'{\"stuid\": \"12345',\n",
       " b'67890\", \"name\": ',\n",
       " b'\"flag\\\\\": true\", ',\n",
       " b'\"flag\": false, \"',\n",
       " b'timestamp\": 1761',\n",
       " b'207108}']"
      ]
     },
     "execution_count": 34,
     "metadata": {},
     "output_type": "execute_result"
    }
   ],
   "source": [
    "import json\n",
    "import time\n",
    "import random\n",
    "\n",
    "def split_blocks(data: bytes, block_size: int = 16) -> list[bytes]:\n",
    "    return [data[i:i + block_size] for i in range(0, len(data), block_size)]\n",
    "\n",
    "def gen_token():\n",
    "    ALPHABET='qwertyuiopasdfghjklzxcvbnm1234567890'\n",
    "    LENGTH=16\n",
    "    return ''.join([random.choice(ALPHABET) for _ in range(LENGTH)])\n",
    "\n",
    "def gen_data(l: int, name: str, stuid: str):\n",
    "    if not 0<len(name)<=[99,22,18][l]:\n",
    "        raise ValueError(\"姓名长度不正确\")\n",
    "    if not (len(stuid)==10 and stuid.isdigit()):\n",
    "        raise ValueError(\"学号格式不正确\")\n",
    "\n",
    "    match l:\n",
    "        case 0:        \n",
    "            data = {\n",
    "                'stuid': stuid,\n",
    "                'name': name,\n",
    "                'flag': False,\n",
    "                'timestamp': int(time.time()),\n",
    "            }\n",
    "        case 1:        \n",
    "            data = {\n",
    "                'stuid': stuid,\n",
    "                'name': name,\n",
    "                'flag': False,\n",
    "                'code': gen_token(),\n",
    "                'timestamp': int(time.time()),\n",
    "            }\n",
    "        case 2:        \n",
    "            data = {\n",
    "                'stuid': stuid,\n",
    "                'code': gen_token(),\n",
    "                'name': name,\n",
    "                'flag': False,\n",
    "            }\n",
    "        case _:\n",
    "            raise ValueError(\"不支持的类型\")\n",
    "\n",
    "    _encoded = json.dumps(data).encode()\n",
    "    return split_blocks(_encoded)\n",
    "\n",
    "gen_data(0, \"flag\\\": true\", \"1234567890\")\n"
   ]
  },
  {
   "cell_type": "code",
   "execution_count": null,
   "id": "9371e84f",
   "metadata": {},
   "outputs": [
    {
     "name": "stdout",
     "output_type": "stream",
     "text": [
      "('<p>已为您生成购票凭证：</p><br><p>XXM5N+IP9SqiPOIkLC2IbaArJZKVzDd7YIXYzVvyIv8Zdbd1huRjKW9qqAsjBXtRT18rL/b6Co2JVCHMoyxvHj7oPI1R+hsnv5E/UZWkyCdG0A==</p><br><p><a '\n",
      " 'href=\"/\">返回</a></p>')\n",
      "ticket: XXM5N+IP9SqiPOIkLC2IbaArJZKVzDd7YIXYzVvyIv8Zdbd1huRjKW9qqAsjBXtRT18rL/b6Co2JVCHMoyxvHj7oPI1R+hsnv5E/UZWkyCdG0A==\n",
      "querying ticket: XXM5N+IP9SqiPOIkLC2IbaArJZKVzDd7YIXYzVvyIv8Zdbd1huRjKW9qqAsjBXtRT18rL/b6Co2JVCHMoyxvHj7oPI1R+hsnv5E/UZWkyCdG0A==\n",
      "('<!doctype html>\\n'\n",
      " '<html>\\n'\n",
      " '<head>\\n'\n",
      " '    <meta charset=utf-8>\\n'\n",
      " '    <title>千年讲堂网上购票系统</title>\\n'\n",
      " '</head>\\n'\n",
      " '<body>\\n'\n",
      " '    <p>解密得到您的购票信息如下</p>\\n'\n",
      " '    <br>\\n'\n",
      " '    <p><b>姓名：</b> 1234567</p>\\n'\n",
      " '    <p><b>学号：</b> 1234567890</p>\\n'\n",
      " '    <p><b>需要礼品：</b> False</p>\\n'\n",
      " '    <p><b>礼品兑换码：</b> </p>\\n'\n",
      " '    <p><b>时间戳：</b> 1761220533</p>\\n'\n",
      " '    <br>\\n'\n",
      " '    <p><a href=\"/\">返回</a></p>\\n'\n",
      " '</body>\\n'\n",
      " '</html>')\n",
      "result: {'姓名': '1234567', '学号': '1234567890', '需要礼品': 'False', '礼品兑换码': '', '时间戳': '1761220533'}\n"
     ]
    }
   ],
   "source": [
    "import requests\n",
    "from pprint import pprint\n",
    "import re\n",
    "\n",
    "URL = \"https://prob14-s2evx8h2.geekgame.pku.edu.cn\"\n",
    "\n",
    "LEVEL = 1\n",
    "\n",
    "def parse_ticket_info(html_content: str) -> dict:\n",
    "    pattern = r\"<b>(.*?)：</b>\\s*(.*?)<\"\n",
    "    matches = re.findall(pattern, html_content)\n",
    "    info_dict = {key.strip(): value.strip() for key, value in matches}\n",
    "        \n",
    "    return info_dict\n",
    "\n",
    "def api_gen_ticket(LEVEL, name, stuid):\n",
    "    response = requests.get(f\"{URL}/{LEVEL}/gen-ticket\", params={\"name\": name, \"stuid\": stuid})\n",
    "    s = response.text\n",
    "    pprint(s)\n",
    "    p_idx = s.find(\"<br><p>\")\n",
    "    pe_idx = s.rfind(\"</p><br>\")\n",
    "    ticket = s[p_idx+7:pe_idx]\n",
    "    return ticket\n",
    "\n",
    "def api_query_ticket(LEVEL, ticket):\n",
    "    print(\"querying ticket:\", ticket)\n",
    "    response = requests.get(f\"{URL}/{LEVEL}/query-ticket\", params={\"ticket\": ticket})\n",
    "    pprint(response.text)\n",
    "    return parse_ticket_info(response.text)\n",
    "\n",
    "ticket = api_gen_ticket(LEVEL, \"1234567\", \"1234567890\")\n",
    "print(\"ticket:\", ticket)\n",
    "result = api_query_ticket(LEVEL, ticket)\n",
    "print(\"result:\", result)"
   ]
  },
  {
   "cell_type": "markdown",
   "id": "4ef2d0b4",
   "metadata": {},
   "source": [
    "name的值显然是我们可以任意控制的。\n",
    "\n",
    "注意到在JS序列化的时候，`\"`等符号会被转义，所以如果要在字符串里构造这些符号必须保证上一行的最后一个字符是`\\`。\n",
    "\n",
    "Python的JS解析允许重复的Key，后面的值覆盖前面的。所以我们不仅要能产生`\"flag\": true\"，还有把最后的flag换成别的名字。\n",
    "\n",
    "一个可能的payload是：\n",
    "\n",
    "```\n",
    "3 | \"123456\", \"flag\n",
    "4 | \":true,      \n",
    "5 | \"abcdefefefefefe           \n",
    "6 | flag\": false,\n",
    "```"
   ]
  },
  {
   "cell_type": "code",
   "execution_count": null,
   "id": "4be69178",
   "metadata": {},
   "outputs": [
    {
     "name": "stdout",
     "output_type": "stream",
     "text": [
      "[b'{\"stuid\": \"12345',\n",
      " b'67890\", \"name\": ',\n",
      " b'\"1234567\", \"flag',\n",
      " b'\": false, \"times',\n",
      " b'tamp\": 176120876',\n",
      " b'6}']\n"
     ]
    }
   ],
   "source": [
    "from pprint import pprint\n",
    "\n",
    "# use line 1-3\n",
    "# we get \"123456\", \"flag from here on block 3\n",
    "pprint(gen_data(0, \"1234567\", \"1234567890\"))"
   ]
  },
  {
   "cell_type": "code",
   "execution_count": 88,
   "id": "437f5595",
   "metadata": {},
   "outputs": [
    {
     "name": "stdout",
     "output_type": "stream",
     "text": [
      "[b'{\"stuid\": \"12345',\n",
      " b'67890\", \"name\": ',\n",
      " b'\"1234567890abcd\\\\',\n",
      " b'\": true,        ',\n",
      " b'\", \"flag\": false',\n",
      " b', \"timestamp\": 1',\n",
      " b'761208820}']\n"
     ]
    }
   ],
   "source": [
    "# use line 4\n",
    "# we get \": true,         from here on block 4\n",
    "pprint(gen_data(0, \"1234567890abcd\\\": true,        \", \"1234567890\"))"
   ]
  },
  {
   "cell_type": "code",
   "execution_count": 80,
   "id": "b30013be",
   "metadata": {},
   "outputs": [
    {
     "name": "stdout",
     "output_type": "stream",
     "text": [
      "[b'{\"stuid\": \"12345',\n",
      " b'67890\", \"name\": ',\n",
      " b'\"1234567890abcde',\n",
      " b'fghijklmnopq123\\\\',\n",
      " b'\"567890abcdefsds',\n",
      " b'\", \"flag\": false',\n",
      " b', \"timestamp\": 1',\n",
      " b'761208662}']\n"
     ]
    }
   ],
   "source": [
    "# use line 5\n",
    "# we get \"abcdefefefefefe on line 5\n",
    "pprint(gen_data(0, \"1234567890abcdefghijklmnopq123\\\"567890abcdefsds\", \"1234567890\"))"
   ]
  },
  {
   "cell_type": "code",
   "execution_count": 89,
   "id": "91006a2d",
   "metadata": {},
   "outputs": [
    {
     "name": "stdout",
     "output_type": "stream",
     "text": [
      "[b'{\"stuid\": \"12345',\n",
      " b'67890\", \"name\": ',\n",
      " b'\"1234567890abcde',\n",
      " b'fghijklmnopq1234',\n",
      " b'567890abcdef\", \"',\n",
      " b'flag\": false, \"t',\n",
      " b'imestamp\": 17612',\n",
      " b'08844}']\n"
     ]
    }
   ],
   "source": [
    "# use line 6 and later\n",
    "# we get flag\": false, \"t on line 6\n",
    "pprint(gen_data(0, \"1234567890abcdefghijklmnopq1234567890abcdef\", \"1234567890\"))"
   ]
  },
  {
   "cell_type": "code",
   "execution_count": null,
   "id": "e67d1abd",
   "metadata": {},
   "outputs": [
    {
     "data": {
      "text/plain": [
       "{'stuid': '1234567890',\n",
       " 'name': '1234567',\n",
       " 'flag': True,\n",
       " '567890abcdefsdsflag': False,\n",
       " 'timestamp': 1761208844}"
      ]
     },
     "execution_count": 91,
     "metadata": {},
     "output_type": "execute_result"
    }
   ],
   "source": [
    "# JSON格式正确！\n",
    "json.loads(b''.join([\n",
    " b'{\"stuid\": \"12345',\n",
    " b'67890\", \"name\": ',\n",
    " b'\"1234567\", \"flag',\n",
    "\n",
    " b'\": true,        ',\n",
    "\n",
    " b'\"567890abcdefsds',\n",
    "\n",
    " b'flag\": false, \"t',\n",
    " b'imestamp\": 17612',\n",
    " b'08844}']))"
   ]
  },
  {
   "cell_type": "code",
   "execution_count": 139,
   "id": "856f08c7",
   "metadata": {},
   "outputs": [
    {
     "name": "stdout",
     "output_type": "stream",
     "text": [
      "querying ticket: XXM5N+IP9SqiPOIkLC2IbaArJZKVzDd7YIXYzVvyIv8Zdbd1huRjKW9qqAsjBXtRcxXZLQAmiAlvuyPl2CoiGSNRIWtL+fYRIWWKLrdnhVVOVrpw0CmfREFO10KNJ4C8x/aL0cH8saHZOiBmglRZLgtOjvDK6g==\n",
      "('<!doctype html>\\n'\n",
      " '<html>\\n'\n",
      " '<head>\\n'\n",
      " '    <meta charset=utf-8>\\n'\n",
      " '    <title>千年讲堂网上购票系统</title>\\n'\n",
      " '</head>\\n'\n",
      " '<body>\\n'\n",
      " '    <p>解密得到您的购票信息如下</p>\\n'\n",
      " '    <br>\\n'\n",
      " '    <p><b>姓名：</b> 1234567</p>\\n'\n",
      " '    <p><b>学号：</b> 1234567890</p>\\n'\n",
      " '    <p><b>需要礼品：</b> True</p>\\n'\n",
      " '    <p><b>礼品兑换码：</b> </p>\\n'\n",
      " '    <p><b>时间戳：</b> 1761211032</p>\\n'\n",
      " '    <br>\\n'\n",
      " '    <p><a href=\"/\">返回</a></p>\\n'\n",
      " '</body>\\n'\n",
      " '</html>')\n"
     ]
    },
    {
     "data": {
      "text/plain": [
       "{'姓名': '1234567',\n",
       " '学号': '1234567890',\n",
       " '需要礼品': 'True',\n",
       " '礼品兑换码': '',\n",
       " '时间戳': '1761211032'}"
      ]
     },
     "execution_count": 139,
     "metadata": {},
     "output_type": "execute_result"
    }
   ],
   "source": [
    "import base64\n",
    "\n",
    "def _dec_blocks(level, name, stuid):\n",
    "    return split_blocks(base64.b64decode(api_gen_ticket(level, name, stuid)))\n",
    "\n",
    "def _enc_blocks(level, blocks):\n",
    "    payload = b''.join(blocks)\n",
    "    return api_query_ticket(level, base64.b64encode(payload).decode())\n",
    "\n",
    "s123 = _dec_blocks(1, \"1234567\", \"1234567890\")\n",
    "s4 = _dec_blocks(1, \"1234567890abcd\\\": true,        \", \"1234567890\")\n",
    "s5 = _dec_blocks(1, \"1234567890abcdefghijklmnopq123\\\"567890abcdefsds\", \"1234567890\")\n",
    "s678 = _dec_blocks(1, \"1234567890abcdefghijklmnopq1234567890abcdef\", \"1234567890\")\n",
    "\n",
    "sN = s123[:3] + s4[3:4] + s5[4:5] + s678[5:]\n",
    "_enc_blocks(1, sN)"
   ]
  },
  {
   "cell_type": "markdown",
   "id": "321eacaa",
   "metadata": {},
   "source": [
    "### Flag 2\n",
    "\n",
    "> 拼凑密文不仅可以伪造ticket，还可以把code泄露出来。此题用户名限制的是字符数量，一个字符经过JSON encode后可能变成多个字节。\n",
    "\n",
    "Flag2多了一个code字段，而且正好16个字符，仅仅注入name做不到啊！\n",
    "\n",
    "> 在Python里面运行{i: len(json.dumps(chr(i))) - 2 for i in range(0x30000) if chr(i).isdigit()}，看看结果是什么。\n",
    "\n",
    "哦，还有这回事？真神奇啊Unicode。"
   ]
  },
  {
   "cell_type": "code",
   "execution_count": null,
   "id": "aeea7f7f",
   "metadata": {},
   "outputs": [
    {
     "data": {
      "text/plain": [
       "{48: 1,\n",
       " 49: 1,\n",
       " 50: 1,\n",
       " 51: 1,\n",
       " 52: 1,\n",
       " 53: 1,\n",
       " 54: 1,\n",
       " 55: 1,\n",
       " 56: 1,\n",
       " 57: 1,\n",
       " 178: 6,\n",
       " 179: 6,\n",
       " 185: 6,\n",
       " 1632: 6,\n",
       " 1633: 6,\n",
       " 1634: 6,\n",
       " 1635: 6,\n",
       " 1636: 6,\n",
       " 1637: 6,\n",
       " 1638: 6,\n",
       " 1639: 6,\n",
       " 1640: 6,\n",
       " 1641: 6,\n",
       " 1776: 6,\n",
       " 1777: 6,\n",
       " 1778: 6,\n",
       " 1779: 6,\n",
       " 1780: 6,\n",
       " 1781: 6,\n",
       " 1782: 6,\n",
       " 1783: 6,\n",
       " 1784: 6,\n",
       " 1785: 6,\n",
       " 1984: 6,\n",
       " 1985: 6,\n",
       " 1986: 6,\n",
       " 1987: 6,\n",
       " 1988: 6,\n",
       " 1989: 6,\n",
       " 1990: 6,\n",
       " 1991: 6,\n",
       " 1992: 6,\n",
       " 1993: 6,\n",
       " 2406: 6,\n",
       " 2407: 6,\n",
       " 2408: 6,\n",
       " 2409: 6,\n",
       " 2410: 6,\n",
       " 2411: 6,\n",
       " 2412: 6,\n",
       "...\n",
       " 123201: 12,\n",
       " 123202: 12,\n",
       " 123203: 12,\n",
       " 123204: 12,\n",
       " 123205: 12,\n",
       " 123206: 12,\n",
       " 123207: 12,\n",
       " 123208: 12,\n",
       " 123209: 12,\n",
       " 123632: 12,\n",
       " 123633: 12,\n",
       " 123634: 12,\n",
       " 123635: 12,\n",
       " 123636: 12,\n",
       " 123637: 12,\n",
       " 123638: 12,\n",
       " 123639: 12,\n",
       " 123640: 12,\n",
       " 123641: 12,\n",
       " 125264: 12,\n",
       " 125265: 12,\n",
       " 125266: 12,\n",
       " 125267: 12,\n",
       " 125268: 12,\n",
       " 125269: 12,\n",
       " 125270: 12,\n",
       " 125271: 12,\n",
       " 125272: 12,\n",
       " 125273: 12,\n",
       " 127232: 12,\n",
       " 127233: 12,\n",
       " 127234: 12,\n",
       " 127235: 12,\n",
       " 127236: 12,\n",
       " 127237: 12,\n",
       " 127238: 12,\n",
       " 127239: 12,\n",
       " 127240: 12,\n",
       " 127241: 12,\n",
       " 127242: 12,\n",
       " 130032: 12,\n",
       " 130033: 12,\n",
       " 130034: 12,\n",
       " 130035: 12,\n",
       " 130036: 12,\n",
       " 130037: 12,\n",
       " 130038: 12,\n",
       " 130039: 12,\n",
       " 130040: 12,\n",
       " 130041: 12}"
      ]
     },
     "metadata": {},
     "output_type": "display_data"
    }
   ],
   "source": [
    "# 牛逼兄弟\n",
    "{i: len(json.dumps(chr(i))) - 2 for i in range(0x30000) if chr(i).isdigit()}"
   ]
  },
  {
   "cell_type": "markdown",
   "id": "a86979f0",
   "metadata": {},
   "source": [
    "先看看正常生成的签名长什么样："
   ]
  },
  {
   "cell_type": "code",
   "execution_count": 145,
   "id": "96e6b891",
   "metadata": {},
   "outputs": [
    {
     "name": "stdout",
     "output_type": "stream",
     "text": [
      "querying ticket: KmiI/nLUEt2EmqT5CU2+ptHIn41qcBHXlj759IpC6V6jsRaLHMKqaDAHErtKzlpj+vuKePL7Hbu0FAL6I5VWHdRtOUz+jnPtdwhA2V6/sD3Jcc+h5YGBOHd2AmyHaKio1enXueETh3o0Mg==\n",
      "('<!doctype html>\\n'\n",
      " '<html>\\n'\n",
      " '<head>\\n'\n",
      " '    <meta charset=utf-8>\\n'\n",
      " '    <title>千年讲堂网上购票系统</title>\\n'\n",
      " '</head>\\n'\n",
      " '<body>\\n'\n",
      " '    <p>解密得到您的购票信息如下</p>\\n'\n",
      " '    <br>\\n'\n",
      " '    <p><b>姓名：</b> 123</p>\\n'\n",
      " '    <p><b>学号：</b> 2342342342</p>\\n'\n",
      " '    <p><b>需要礼品：</b> False</p>\\n'\n",
      " '    <p><b>礼品兑换码：</b> a65t************</p>\\n'\n",
      " '    <p><b>时间戳：</b> 1761211449</p>\\n'\n",
      " '    <br>\\n'\n",
      " '    <p><a href=\"/\">返回</a></p>\\n'\n",
      " '</body>\\n'\n",
      " '</html>')\n"
     ]
    },
    {
     "data": {
      "text/plain": [
       "{'姓名': '123',\n",
       " '学号': '2342342342',\n",
       " '需要礼品': 'False',\n",
       " '礼品兑换码': 'a65t************',\n",
       " '时间戳': '1761211449'}"
      ]
     },
     "execution_count": 145,
     "metadata": {},
     "output_type": "execute_result"
    }
   ],
   "source": [
    "t = api_gen_ticket(2, '123', '2342342342')\n",
    "api_query_ticket(2, t)"
   ]
  },
  {
   "cell_type": "code",
   "execution_count": 205,
   "id": "a5275710",
   "metadata": {},
   "outputs": [
    {
     "name": "stdout",
     "output_type": "stream",
     "text": [
      "[b'{\"stuid\": \"11111',\n",
      " b'11111\", \"name\": ',\n",
      " b'\"1234567\", \"flag',\n",
      " b'\": false, \"code\"',\n",
      " b': \"ilb92pon9ohtw',\n",
      " b'0z3\", \"timestamp',\n",
      " b'\": 1761213345}']\n"
     ]
    }
   ],
   "source": [
    "pprint(gen_data(1, \"1234567\", \"1\"*10))"
   ]
  },
  {
   "cell_type": "markdown",
   "id": "8ea14a3e",
   "metadata": {},
   "source": [
    "从上述输出可以看到，code没法正常回显，而我们最后传的payload里的code必须和回显的code一致，需要想办法把name或者stuid设置成code。也就是说，我们必须能想办法把code泄露到单独的一行，并且还需要一个`\"name\": \"`在行尾的Payload。这两个任务其实可以通过构造stuid一次性完成：\n",
    "\n",
    "len(chr(66720)*a + chr(6474) * b + \"1\"*c) = N * 16 + 8, a + b + c = 9\n",
    "\n",
    "0, 3, 7  N = 1\n",
    "\n",
    "1, 4, 5  N = 2\n",
    "\n",
    "2, 5, 3  N = 3\n",
    "\n",
    "3, 6, 1  N = 4"
   ]
  },
  {
   "cell_type": "code",
   "execution_count": null,
   "id": "75754f32",
   "metadata": {},
   "outputs": [
    {
     "name": "stdout",
     "output_type": "stream",
     "text": [
      "[b'{\"stuid\": \"\\\\ud80',\n",
      " b'1\\\\udca0\\\\ud801\\\\ud',\n",
      " b'ca0\\\\ud801\\\\udca0\\\\',\n",
      " b'u194a\\\\u194a\\\\u194',\n",
      " b'a\\\\u194a\\\\u194a\\\\u1',\n",
      " b'94a1\", \"name\": \"',\n",
      " b'123456\", \"flag\":',\n",
      " b' false, \"code\": ',\n",
      " b'\"7z9eairta1oboyw',\n",
      " b'r\", \"timestamp\":',\n",
      " b' 1761215909}']\n"
     ]
    }
   ],
   "source": [
    "# leak code\n",
    "# XXX\", \"name\": \"\n",
    "# code on line 7\n",
    "pprint(gen_data(1, \"123456\", chr(66720)*3 + chr(6474) * 6 + \"1\"*1))"
   ]
  },
  {
   "cell_type": "markdown",
   "id": "d224c225",
   "metadata": {},
   "source": [
    "Flag 2 说是限制了输入的长度，但是在Unicode的帮助下这都不是事："
   ]
  },
  {
   "cell_type": "code",
   "execution_count": null,
   "id": "398084c3",
   "metadata": {},
   "outputs": [
    {
     "data": {
      "text/plain": [
       "27"
      ]
     },
     "execution_count": 230,
     "metadata": {},
     "output_type": "execute_result"
    }
   ],
   "source": [
    "# unicode ! \n",
    "len(\"🏄‍♂️🌊❄️🦅\".encode())"
   ]
  },
  {
   "cell_type": "code",
   "execution_count": 245,
   "id": "cc397a32",
   "metadata": {},
   "outputs": [
    {
     "name": "stdout",
     "output_type": "stream",
     "text": [
      "[b'{\"stuid\": \"12345',\n",
      " b'67890\", \"name\": ',\n",
      " b'\"\\\\ud83c\\\\udfc4\\\\u2',\n",
      " b'00d\\\\u2642\\\\ufe0f1',\n",
      " b'11111\", \"flag\": ',\n",
      " b'false, \"code\": \"',\n",
      " b'1jsj11e7gtgc37zv',\n",
      " b'\", \"timestamp\": ',\n",
      " b'1761216244}']\n"
     ]
    }
   ],
   "source": [
    "# here we get a code line on line 7\n",
    "pprint(gen_data(1, \"🏄‍♂️\" + \"1\" * 6, \"1234567890\"))"
   ]
  },
  {
   "cell_type": "code",
   "execution_count": 348,
   "id": "e5e543b8",
   "metadata": {},
   "outputs": [
    {
     "name": "stdout",
     "output_type": "stream",
     "text": [
      "('<p>已为您生成购票凭证：</p><br><p>mifMZ2p7NHCbj9guhm3n0CxxMESRkVo0PO+U+3NWfSsMjVF47pdSy8LWG+fUffA2/EmYvJ2tU8iU/+b+AELKCqLnZUA8KdqbM2AFtmd/68QblkQrrLx0LoITzoutDaZVtJbDF+/0LXQpyDoLg547GhAuwqiFy87/+KXCdDNDzc5t4ZLHBaf005BjeX6J7V9dI1ieFQnYPp8zv3CbPSzC+3hetxa2iHPWEtSxSw==</p><br><p><a '\n",
      " 'href=\"/\">返回</a></p>')\n",
      "('<p>已为您生成购票凭证：</p><br><p>nqwnvMWhV6vxWdPNzqsUDtep2B/0lF2OJ0GedfOM1KXxOKysIcmNzmTd8NoQIeV5p+dlDxfBbjGCepqQlZK79U71MCQRuAq5C84AO6MA5+LOHdu8SHeuDNypXxKgoiMLn8818EzWQDzbg5f59ONET2cRGU6ZDKqJ+P58VOo9E53lamIDWXnJHVKw8g==</p><br><p><a '\n",
      " 'href=\"/\">返回</a></p>')\n",
      "querying ticket: mifMZ2p7NHCbj9guhm3n0CxxMESRkVo0PO+U+3NWfSsMjVF47pdSy8LWG+fUffA2/EmYvJ2tU8iU/+b+AELKCqLnZUA8KdqbM2AFtmd/68QblkQrrLx0LoITzoutDaZVn8818EzWQDzbg5f59ONET2cRGU6ZDKqJ+P58VOo9E53lamIDWXnJHVKw8g==\n",
      "('<!doctype html>\\n'\n",
      " '<html>\\n'\n",
      " '<head>\\n'\n",
      " '    <meta charset=utf-8>\\n'\n",
      " '    <title>千年讲堂网上购票系统</title>\\n'\n",
      " '</head>\\n'\n",
      " '<body>\\n'\n",
      " '    <p>解密得到您的购票信息如下</p>\\n'\n",
      " '    <br>\\n'\n",
      " '    <p><b>姓名：</b> a2jksobiutp0r6m6</p>\\n'\n",
      " '    <p><b>学号：</b> 𐒠𐒠𐒠᥊᥊᥊᥊᥊᥊1</p>\\n'\n",
      " '    <p><b>需要礼品：</b> </p>\\n'\n",
      " '    <p><b>礼品兑换码：</b> </p>\\n'\n",
      " '    <p><b>时间戳：</b> 1761220547</p>\\n'\n",
      " '    <br>\\n'\n",
      " '    <p><a href=\"/\">返回</a></p>\\n'\n",
      " '</body>\\n'\n",
      " '</html>')\n",
      "a2jksobiutp0r6m6\n"
     ]
    }
   ],
   "source": [
    "s_codeprefix = _dec_blocks(2, \"123456\", chr(66720)*3 + chr(6474) * 6 + \"1\"*1)\n",
    "s_code = _dec_blocks(2, \"🏄‍♂️\" + \"1\" * 6, \"1234567890\")\n",
    "s_getcode = s_codeprefix[:6] + s_code[6:]\n",
    "code_parsed = _enc_blocks(2, s_getcode)\n",
    "print(code_parsed['姓名'])"
   ]
  },
  {
   "cell_type": "markdown",
   "id": "a15a6e27",
   "metadata": {},
   "source": [
    "很好，我们现在拿到了一组明文的Code以及它对应的密文，接下来思考一下如何让密文行不变的情况下把flag的值设置为true。\n",
    "\n",
    "第3行需要把\"flag\"控制在一个恰好的位置，让我们能够在第4行通过name设置`\"flag\":true`。比较头疼的是如何让后面的`\"flag\":false无效。经过几轮迭代，我想到了以下办法：\n",
    " \n",
    "```python\n",
    " b'{\"stuid\": \"11111', # <- s_3\n",
    " b'11111\", \"name\": ', # <- s_3\n",
    " b'\"1111111\", \"flag', # <- s_3\n",
    " b'\"     :true,\", \"', # <- s_4\n",
    " b': false, \"code\":', # <- s_5\n",
    " b'false, \"code\": \"', # <- s_code\n",
    " b'3shyynbrxqmjnus5', # <- s_code\n",
    " b'\", \"timestamp\": ', # <- s_code\n",
    " b'1761217224}' # <- s_code\n",
    "```"
   ]
  },
  {
   "cell_type": "code",
   "execution_count": 351,
   "id": "22167e2d",
   "metadata": {},
   "outputs": [
    {
     "name": "stdout",
     "output_type": "stream",
     "text": [
      "[b'{\"stuid\": \"11111',\n",
      " b'11111\", \"name\": ',\n",
      " b'\"1111111\", \"flag',\n",
      " b'\": false, \"code\"',\n",
      " b': \"z0zyjspyf3k9i',\n",
      " b'wnx\", \"timestamp',\n",
      " b'\": 1761220547}']\n",
      "('<p>已为您生成购票凭证：</p><br><p>GTJdUXcNrfrclt164gMrNjoKhZY6kWneF+EUoVK0yhr2TPQXkKJrJI47zmD2yIN39VbWJQlZzKSrI5j1R3CvQAvdqM85KOAWU6H1VVz5WfKd2Et0dXTOj43ZaoQwGSrVJo13/2iceL/LqQJnQOQ=</p><br><p><a '\n",
      " 'href=\"/\">返回</a></p>')\n"
     ]
    }
   ],
   "source": [
    "payload_3 = gen_data(1, \"1111111\", \"1\"*10)\n",
    "pprint(payload_3)\n",
    "s_3 = _dec_blocks(2, \"1111111\", \"1\"*10)"
   ]
  },
  {
   "cell_type": "code",
   "execution_count": 352,
   "id": "f3d5d3b7",
   "metadata": {},
   "outputs": [
    {
     "name": "stdout",
     "output_type": "stream",
     "text": [
      "('<p>已为您生成购票凭证：</p><br><p>GTJdUXcNrfrclt164gMrNjoKhZY6kWneF+EUoVK0yhpUqY4MOA7G9l/Jfgt9tOIY4+Z6dVhd0Y/e0iM8gS2gmzw3dDgH1GjeE/riesUIEuA/QqiQtnCqXAj2pjevkRtaZpA+dwBoMlI5iD6XCzDptgzDbEzgw5a7O4PvDapmCoODmQ==</p><br><p><a '\n",
      " 'href=\"/\">返回</a></p>')\n",
      "[b'{\"stuid\": \"11111',\n",
      " b'11111\", \"name\": ',\n",
      " b'\"\\\\u51b2\\\\u6d6a  \\\\',\n",
      " b'\"     :true,\", \"',\n",
      " b'flag\": false, \"c',\n",
      " b'ode\": \"0sryhj289',\n",
      " b'itovxfz\", \"times',\n",
      " b'tamp\": 176122054',\n",
      " b'7}']\n"
     ]
    }
   ],
   "source": [
    "_name = \"冲浪  \\\"     :true,\"\n",
    "_stuid = \"1\"*10\n",
    "payload_4 = gen_data(1, _name, _stuid)\n",
    "s_4 = _dec_blocks(2, _name, _stuid)\n",
    "pprint(payload_4)"
   ]
  },
  {
   "cell_type": "code",
   "execution_count": 353,
   "id": "172e84ac",
   "metadata": {},
   "outputs": [
    {
     "name": "stdout",
     "output_type": "stream",
     "text": [
      "('<p>已为您生成购票凭证：</p><br><p>GTJdUXcNrfrclt164gMrNjoKhZY6kWneF+EUoVK0yhohuG30HphMz4fv7VJ/lig/rw+rxXvgGR2JqdmFAfx/uLh7MhGkjXWA39KGkpY9GhOddXZdiTY4M8YWZvEMfHRvY4V/snY+QECuSLGQRzUBjmx6PXQKSFVFeHjNdr8=</p><br><p><a '\n",
      " 'href=\"/\">返回</a></p>')\n",
      "[b'{\"stuid\": \"11111',\n",
      " b'11111\", \"name\": ',\n",
      " b'\"\\\\u8389\\\\u8389\\\\u5',\n",
      " b'b501111\", \"flag\"',\n",
      " b': false, \"code\":',\n",
      " b' \"dvestcmfe402b2',\n",
      " b'nu\", \"timestamp\"',\n",
      " b': 1761220547}']\n"
     ]
    }
   ],
   "source": [
    "_name = \"莉莉子1111\"\n",
    "_stuid = \"1\"*10\n",
    "payload_5 = gen_data(1, _name, _stuid)\n",
    "s_5 = _dec_blocks(2, _name, _stuid)\n",
    "pprint(payload_5)"
   ]
  },
  {
   "cell_type": "code",
   "execution_count": null,
   "id": "c3360ee5",
   "metadata": {},
   "outputs": [
    {
     "data": {
      "text/plain": [
       "{'stuid': '1111111111',\n",
       " 'name': '1111111',\n",
       " 'flag': True,\n",
       " ', ': False,\n",
       " 'code': '3shyynbrxqmjnus5',\n",
       " 'timestamp': 1761217224}"
      ]
     },
     "execution_count": 354,
     "metadata": {},
     "output_type": "execute_result"
    }
   ],
   "source": [
    "# okay we are still able to manipulate first 6 lines\n",
    "json.loads(b''.join([\n",
    " b'{\"stuid\": \"11111', # <- s_3\n",
    " b'11111\", \"name\": ', # <- s_3\n",
    " b'\"1111111\", \"flag', # <- s_3\n",
    " b'\"     :true,\", \"', # <- s_4\n",
    " b': false, \"code\":', # <- s_5\n",
    " b'false, \"code\": \"', # <- s_code\n",
    " b'3shyynbrxqmjnus5', # <- s_code\n",
    " b'\", \"timestamp\": ', # <- s_code\n",
    " b'1761217224}' # <- s_code\n",
    "]))"
   ]
  },
  {
   "cell_type": "code",
   "execution_count": null,
   "id": "7708459e",
   "metadata": {},
   "outputs": [
    {
     "name": "stdout",
     "output_type": "stream",
     "text": [
      "querying ticket: GTJdUXcNrfrclt164gMrNjoKhZY6kWneF+EUoVK0yhr2TPQXkKJrJI47zmD2yIN34+Z6dVhd0Y/e0iM8gS2gm7h7MhGkjXWA39KGkpY9GhPOHdu8SHeuDNypXxKgoiMLn8818EzWQDzbg5f59ONET2cRGU6ZDKqJ+P58VOo9E53lamIDWXnJHVKw8g==\n",
      "('<!doctype html>\\n'\n",
      " '<html>\\n'\n",
      " '<head>\\n'\n",
      " '    <meta charset=utf-8>\\n'\n",
      " '    <title>千年讲堂网上购票系统</title>\\n'\n",
      " '</head>\\n'\n",
      " '<body>\\n'\n",
      " '    <p>解密得到您的购票信息如下</p>\\n'\n",
      " '    <br>\\n'\n",
      " '    <p><b>姓名：</b> 1111111</p>\\n'\n",
      " '    <p><b>学号：</b> 1111111111</p>\\n'\n",
      " '    <p><b>需要礼品：</b> True</p>\\n'\n",
      " '    <p><b>礼品兑换码：</b> a2jk************</p>\\n'\n",
      " '    <p><b>时间戳：</b> 1761220547</p>\\n'\n",
      " '    <br>\\n'\n",
      " '    <p><a href=\"/\">返回</a></p>\\n'\n",
      " '</body>\\n'\n",
      " '</html>')\n"
     ]
    },
    {
     "data": {
      "text/plain": [
       "{'姓名': '1111111',\n",
       " '学号': '1111111111',\n",
       " '需要礼品': 'True',\n",
       " '礼品兑换码': 'a2jk************',\n",
       " '时间戳': '1761220547'}"
      ]
     },
     "execution_count": 355,
     "metadata": {},
     "output_type": "execute_result"
    }
   ],
   "source": [
    "s_payload = s_3[:3] + s_4[3:4] + s_5[4:5] + s_code[5:]\n",
    "_enc_blocks(2, s_payload)"
   ]
  }
 ],
 "metadata": {
  "kernelspec": {
   "display_name": "base",
   "language": "python",
   "name": "python3"
  },
  "language_info": {
   "codemirror_mode": {
    "name": "ipython",
    "version": 3
   },
   "file_extension": ".py",
   "mimetype": "text/x-python",
   "name": "python",
   "nbconvert_exporter": "python",
   "pygments_lexer": "ipython3",
   "version": "3.10.16"
  }
 },
 "nbformat": 4,
 "nbformat_minor": 5
}