{
 "cells": [
  {
   "cell_type": "markdown",
   "id": "f5d1a6cb",
   "metadata": {},
   "source": [
    "# 勒索病毒\n",
    "\n",
    "### Flag1\n",
    "\n",
    "本质上是misc，能不能做出来取决于有无找到[这个网站](https://cfp.recon.cx/recon2024/talk/LQ8B7H/)。这个勒索病毒的实现十分愚蠢，用一个固定的KEYSTREAM与所有文件进行XOR，意味着你只要找到一个文件的明文就可以拿到KEYSTEAM解密其它文件。加密文件的最后512B前256B是RSA加密的SEED，后256B是0，需要忽略。"
   ]
  },
  {
   "cell_type": "code",
   "execution_count": null,
   "id": "2c2402f4",
   "metadata": {},
   "outputs": [
    {
     "name": "stdout",
     "output_type": "stream",
     "text": [
      "Recovering keystream from geekgame-4th/official_writeup/algo-gzip/attachment/algo-gzip.f58A66B51.py and geekgame-4th/official_writeup/algo-gzip/attachment/algo-gzip.py\n",
      "Length of first file: 1591\n",
      "Length of second file: 1079\n",
      "Keystream length: 1079\n"
     ]
    },
    {
     "data": {
      "text/plain": [
       "(b'\\xf3\\x16p\\xe1 #\\xfcQ\\x04*L\\xbfK\\x8a\\x84\\xa7p\\xc8C.\\x0b\\xc4\\xef\\xb1M|Dm\\xb9m\\xfauQd\\xca\\xfc\\x14\\x1f\\xdbe\\x86\\x1b\\xd2\\xe0\\xf6g\\x84P\\x82^j%M,-N\\xbd\\xb4\\xefk\\xf1\\xa9Vn\\x02\\x16\\xcf\\xf0\\xafE\\x00\\x0e\\xcd\\x02O.\\x0b\\xe6e\\xcd\\xbd\\xd9\\x1d\\xd7\\xe5l\\xbeI\\xe0\\xab=k\\xb8\\xc7\\xd4\\xc2\\xe1t&j\\x87\\xbcX\\xe0_\\xa6\\x81`\"\\x9b\\r\\x9a\\x96?\\x86\\xe7\\xca\\xee\\x93\\x9f\\x7f,N\\x9c\\xeb\\xd1\\xe8H\\x9a\\xdd,\\xf2J\\xf7,9\\xc3\\xf3\\xcd\\x05\\xfaE]M\\xea\\xaa\\xa9\\xfd\\xdc\\xd8\\x85&\\x0c(\\xf3\\xec\\xaf\\xd8\\xf8\\xff\\xd1\\xb9\\x0b\\xaf\\xce\\xffU\\x0f{@\\x10\\x8fo.\\xb6\\xeeD\\x06n\\xfe#\\x02\\x94f\\x96\\xe6T\\xaf3\\x86\\x9dW\\xe6t\\xae*\\xa5\\xa1\\x03X\\xbc\\xe6\\xc2\\x14\\x88P\\xeb\\xber\\x88\\x7f\\x88\\xa1\\xb2\\x1d\\xeap\\xce\\x13$ \\x02P\\xe4\\xae\\\\\\xd4\\xa6\\x0bA\\xdc\\xe8f\\xbc\\xf0\\x14i\\x97\\x1b\\xb7\\x16\\xeen\\x08\\x9a9w\\x93\\xbcL\\xaa\\x9c\\xbf\\xb4\\xa3\\\\\\xdb\\xa2\\x02\\xecH\\xe3\\xbd&^\\x05\\x9e\\x15<T\\x83\\xa8g\\xdd\\xe0\\xf4\\xc6h\\x88\\x7fg8\\xfbH\\xb0\\x8f\\r\\xefjH\\xa2m\\x9c)\\x87\\xd646Z8$\\xae\\x97\\x1f\\x9b\\xa8J\\xa4\\xdd\\x1f\\x9dO\\xef\\xff\\x94\\x04y\\x9c\\xce\\xfc\\xc2\\xa9\\n\\x1e\\xc4,MTl/j\\xd5\\xd5\\x13\\xab\\xf5A\\xb8\\xf05\\xfd\\x98@\\x8bMq~\\'\\xdd\\x9d\\xdb\\xa0\\x98\\xd9\\xce\\xda|?!E\\xa2`\\xb1]\\xc3\\xcd\\x00\\t\\xa9\\x1a>M\\xb9\\xdbGtGP\\xf8H<\\xe6\\xe0Ge\\x92\\xde\\xa2\\x92\\xad\\x98M\\x02\\xac\\x006\\xa5\\x0c\\xd1J\\xdb@\\x13\\x01W\\x84A&\\xd2\\x12\\xb4\\xd2s\\xd4\\x13\\x00\\x8e\\xc8\\xd1\\xda\\xaf$\\xd3\\xaf\\x8a\\x0f\\xc1\\xc4\\x97U\\xf3iB\\x12:G<S\\xe4\\x99\\xa0\\xb5\\x8d\\x1dq%\\x19}\\x16\\xf8\\xd7\\nYh\\xd4\\x8b\\xbf&W\\x87\\xa33\\xfb\\x17\\x1f\\xeeh\\xfb2\\xff\\xc0\\x99\\x9f\\xdb\\xf4\\x15\\xab\\xc2u\\xf83N\\x02(\\x9b\\xafUA\\xa3u)\"\\xd0\\x04\\x00\\xee\\x1e<;z+\\xd9z\\xa6\\xfa\\x1a\\xd6\\xc3D\\x0f8;\\xb3\\xcc\\xd1\\x1e\\xa8?\\xc3\\xf7_;\\xden\\x06\\x7f\\x1a\\xc8\\x06\\xa5\\xe0\\xd0jDi\\x93\\x89\\x88\\xa9\\xc4\\xc5\\x0c\\xbe\\xf5a\\xfb\\xfa\\xaery$\\x8c>\\xe1\\x0emQ\\xe4\\xe6}J\\xdb\\xfc\\x86S\\xc7\\xd7_i\\x85,\\x03\\xa1R\\xaa\\xfe\\x05\\xcb\\xb0\\xb4G6\\xd8]\\xb1S\\xd6O\\x1f\\x97}\\xb0K\\xc18\\xf19es\\xb8\\x9d\\xeaC\\xc1\\x10\\xdb\\x17\\xb2Pbc:B\\xf1r\\xba\\xb7\\xbaP\\x88\\x9a\\x08\\xb5\\xab\\x88\\xf2\\x15\\x9d\\xa5\\xbb\\xa6qW\\'@dZ/\\x15\\xd6\\n\\xc4\\xb0G\\xbb\\xb2?\\x90\\x81\\xcd\\xdc;\\x93\\xa4dR2\\xfb\\xad\\x08\\xc8\\x95\\x81(d/t\\xc7\\x03{FOnG/ \\x1f\\x8b\\n\\x82\\xc5\\xf4\\x03V\\xee{e\\x02\\xb0\\xff\\xf2\\r\\xad\\xb4\\x85\\t\\xd1\\xff\\x7f\\x96\\xdfT\\x1dk\\x06fg\\'\\x83aA4.qhD\\x96\\xda\\xffo\\xf6\\xae\\x1e\\x1f0\\xdai\\xef\\xffm{\\xf1\\x80\\xac\\xf3\\xc9\\x81\\x85/\\xe8,\\xe2\\xc1I3\\x19)v*<\\x06\\x89`\\xc9\\x84\\x9f\\xaa\\xadG\\x05\\xe7\\x86\\x12\\xe4{\\xb6\\xe1\\xab\\xba\\x9d\\xa6\\xf5\\x80\\xfa[\\xf9\\xc11\\x84\\xd0\\xc9\\x88\\xec\\xb6f<\\x15\\x1bi\\xaa1\\x8f\\x02\\x0c\\x93\\xb4.\\xcb\\x17\\xcf\\xe2Q\\xb2\\x81e6\\x9e\\x07\\x9b\\x88\\x8d%Ys!@\\x80[%\\x92\\xcb\\xa5\\xb1\\xd0\\xc3r\\xb0\\xf5\\xe5\\xd2\\xa5\\x15\\xce\\xd6zg\\n\\x1b\\xf6 \\x99/i\\x99\\x17\\xa5\\xfc\\x8b\\x9e\\xbd\\xe4L\\xed\\x19\\t\\x8bYg\\x9a\\xf9\\xc3\\r\\x8a2m\\xee@3\\x93\\xc3\\x0b\\xb7,\\xb5E\\xd0f\\xfa\\xb5\\x16\\x18/\\xc4{\\x7f\\xc6\\xef\\x834\\xbeQ+y\\x01rX\\x0fG\\x9f\\x0e8\\x1b\\x8cp\\xe4\\xe7\\xe7RXH\\x90z\\xeb(\\x10\\xc7)\\xf0\\tS\\xf5S8\\xb6/\\x8e\\xa4c\\xe7\\xfc\\x17Aq\\x04\\t\\x1c\\xb9\\r\\'By\\x1b?*\\xabH\\x13\\x8f\\xba\\x08\\xd5\\x9dU\\xe5!\\xb3\\x1cpB \\xde]y\\'s\\xbe\\x92)\\xbf\\xf7\\x0b3\\x98\\x18)\\xf2\\xa7\\xe4\\xa5W2\\xa9L\\x18\\xb7\\x92\\xc05\\xdf#\\xa3X\\x10`\\xd7[\\x98\\x13d\\xce\\x8d\\xa6rO\\xe3\\xf8\\x19\\x18\\xe5\\xcb*\\xa9|\\x9b{\\xb6\\xd5\\x04\\x19J6\\x0fAb1\\xf9\\xbb\\x9c\\xa4\\x87\\xa4\\xa6\\xfbp\\xf9\\xc1\\x16v\\xb9\\x9a\\x12\\x8dI/\\x18\\x17\\x84[\\xb0\\xed\\x86\\xc93\\xfau\\x17\\x83\\xe7\\x87\\x19\\xe7kj\\'\\xb6by\\xc7~\\xabm2\\xa9\\x8d(\\xcdo\\x8d\\x88',\n",
       " 1079)"
      ]
     },
     "execution_count": 1,
     "metadata": {},
     "output_type": "execute_result"
    }
   ],
   "source": [
    "def xor(first, second):\n",
    "    result = []\n",
    "    length = min(len(first)-512, len(second))\n",
    "    for i, b in enumerate(first[:length]):\n",
    "        result.append((b ^ second[i]).to_bytes(1, byteorder='little'))\n",
    "    return b''.join(result)\n",
    "\n",
    "def read_file(fpath):\n",
    "    f = open(fpath, \"rb\")\n",
    "    return f.read()\n",
    "\n",
    "def recover_keystream(first, second):\n",
    "    print(F\"Recovering keystream from {first} and {second}\")\n",
    "    rf1 = read_file(first)\n",
    "    rf2 = read_file(second)\n",
    "    print(f\"Length of first file: {len(rf1)}\")\n",
    "    print(f\"Length of second file: {len(rf2)}\")\n",
    "    keystream = xor(rf1, rf2)\n",
    "    return keystream\n",
    "\n",
    "PLAINTEXT  = 'geekgame-4th/official_writeup/algo-gzip/attachment/algo-gzip.py'\n",
    "ENCRYPTED = 'geekgame-4th/official_writeup/algo-gzip/attachment/algo-gzip.f58A66B51.py'\n",
    "KEYSTREAM = recover_keystream(ENCRYPTED, PLAINTEXT)\n",
    "with open(\"keystream.bin\", \"wb\") as kf:\n",
    "    kf.write(KEYSTREAM)\n",
    "print(\"Keystream length:\", len(KEYSTREAM))\n",
    "KEYSTREAM, len(KEYSTREAM)"
   ]
  },
  {
   "cell_type": "code",
   "execution_count": 14,
   "id": "c28715a6",
   "metadata": {},
   "outputs": [
    {
     "data": {
      "text/plain": [
       "b'This file contains all flags of misc-ransomware and some garbage data.\\r\\nSlpQvDnbUDWmeGtWT1jiQPlbntkHEoEALQaOMUmQRyHmKWeo4gGXZH0MeUFNO0h7NwD1477LW4BynPpurLBbyxrH24DC7HCruRtwnimd7RDKvePQzA4v5QeYjpevlom2k1b6cLJYHxZxA761layba1gYNqqxgTjLBhvddS98Dd01snwtxXWT8xdxFW0BaLd6rNYOaRKghlUq0iAAUyQ6eMFWZBlh08L1rfZxwGQjOugCsKOp5SYkcTL8K7aT29hDyLGHlB7bzW28vJ0sZXGXEdWXTAa3xuwXj477I0iLVcZYn73KuQ7EsnrRSAEpdZzztZyoKaNPNw7QkfACrpoevG8a997ZMlOGy3VSgccQK9n1CJn2gwackruNLuCFrjqP0QgLvvIIc6zpI6ltOxTJQXs15w7AWrVq4Isw9peq564uzbeR2OaccbEH2khEnaoD6mV0pI7OYvNHBM80vpZC5Tm93jcuy4JoA9yiaFLw8jLgqvITemVOfcwsMiaBZWnn2pwVdzB0l5tr9fJkpnEHR1WwbzjmxCYxhlXnV5WOGLZ44QTv6Nfrs6VmdudpdnaPHLodYoV4Wc8CSTojQGmfkIeRflqeRM0uqiVLYGQ7OHRPYstIrP6xhPtAOJv4PD0fXpIbeVaoJOjyUkGyb8hPXZzbK5rY7XfMnn8mmbIcFL0pciF3VxaAm39l1QMHG7aHVwGBtErqDFLorexHOSQVlWusIDgbWHkoW1Vk1WxPW1fcqgYmIP6Iq3BcyvbTbnkpEUhFOQmD2SM68GEICKMCSmaj9qYRdM4uekphy52xqYvdtkS68WFPLF3tlx82WwkZflag{yOu_need_SomE_basIc_CRyPto_knOwlEdgE_bEfORE_WRiTING_RANsoMWArE_GUHHI6jc6VTRXzg7J4UX}9VKZar9ice65DeGVF51cRoEksWZEBcwnRmI8rc9GUxZZxs4qj8U3ke9FASP5pxTj8ZbBu1vlSPGNfO6KXClBbQ'"
      ]
     },
     "execution_count": 14,
     "metadata": {},
     "output_type": "execute_result"
    }
   ],
   "source": [
    "f2 = open(\"geekgame-5th/problemset/misc-ransomware/flag1-2-3.f58A66B51.txt\", \"rb\")\n",
    "# xor rf2 with keystream\n",
    "\n",
    "result = []\n",
    "f2b = f2.read()\n",
    "length = min(len(f2b), len(KEYSTREAM))\n",
    "for i, b in enumerate(f2b[:length]):\n",
    "    result.append((b ^ KEYSTREAM[i]).to_bytes(1, byteorder='little'))\n",
    "open(\"geekgame-5th/problemset/misc-ransomware/flag1-2-3_decrypted.txt\", \"wb\").write(b''.join(result))\n",
    "b''.join(result)"
   ]
  },
  {
   "cell_type": "code",
   "execution_count": 23,
   "id": "0f202ce9",
   "metadata": {},
   "outputs": [
    {
     "name": "stdout",
     "output_type": "stream",
     "text": [
      "Flag: flag{yOu_need_SomE_basIc_CRyPto_knOwlEdgE_bEfORE_WRiTING_RANsoMWArE_GUHHI6jc6VTRXzg7J4UX}\n",
      "Flag start: 832\n",
      "Flag end: 921\n"
     ]
    },
    {
     "data": {
      "text/plain": [
       "b'SlpQvDnbUDWmeGtWT1jiQPlbntkHEoEALQaOMUmQRyHmKWeo4gGXZH0MeUFNO0h7NwD1477LW4BynPpurLBbyxrH24DC7HCruRtwnimd7RDKvePQzA4v5QeYjpevlom2k1b6cLJYHxZxA761layba1gYNqqxgTjLBhvddS98Dd01snwtxXWT8xdxFW0BaLd6rNYOaRKghlUq0iAAUyQ6eMFWZBlh08L1rfZxwGQjOugCsKOp5SYkcTL8K7aT29hDyLGHlB7bzW28vJ0sZXGXEdWXTAa3xuwXj477I0iLVcZYn73KuQ7EsnrRSAEpdZzztZyoKaNPNw7QkfACrpoevG8a997ZMlOGy3VSgccQK9n1CJn2gwackruNLuCFrjqP0QgLvvIIc6zpI6ltOxTJQXs15w7AWrVq4Isw9peq564uzbeR2OaccbEH2khEnaoD6mV0pI7OYvNHBM80vpZC5Tm93jcuy4JoA9yiaFLw8jLgqvITemVOfcwsMiaBZWnn2pwVdzB0l5tr9fJkpnEHR1WwbzjmxCYxhlXnV5WOGLZ44QTv6Nfrs6VmdudpdnaPHLodYoV4Wc8CSTojQGmfkIeRflqeRM0uqiVLYGQ7OHRPYstIrP6xhPtAOJv4PD0fXpIbeVaoJOjyUkGyb8hPXZzbK5rY7XfMnn8mmbIcFL0pciF3VxaAm39l1QMHG7aHVwGBtErqDFLorexHOSQVlWusIDgbWHkoW1Vk1WxPW1fcqgYmIP6Iq3BcyvbTbnkpEUhFOQmD2SM68GEICKMCSmaj9qYRdM4uekphy52xqYvdtkS68WFPLF3tlx82WwkZ9VKZar9ice65DeGVF51cRoEksWZEBcwnRmI8rc9GUxZZxs4qj8U3ke9FASP5pxTj8ZbBu1vlSPGNfO6KXClBbQ'"
      ]
     },
     "execution_count": 23,
     "metadata": {},
     "output_type": "execute_result"
    }
   ],
   "source": [
    "s = b''.join(result)[72:]\n",
    "# strip the flag part\n",
    "_flag_start = s.find(b'flag{')\n",
    "_flag_end = s.find(b'}') + 1\n",
    "_flag = s[_flag_start:_flag_end]\n",
    "print(\"Flag:\", _flag.decode())\n",
    "print(\"Flag start:\", _flag_start)\n",
    "print(\"Flag end:\", _flag_end)\n",
    "s1 = s[:_flag_start]\n",
    "s2 = s[_flag_end:]\n",
    "s = s[:_flag_start] + s[_flag_end:]  # remove flag from s for further analysis\n",
    "s"
   ]
  },
  {
   "cell_type": "markdown",
   "id": "47f4c1aa",
   "metadata": {},
   "source": [
    "### Flag2\n",
    "\n",
    "放弃了。我知道这段数据是一种类似base62的编码，但是试了半天也没有从中看出一个deflate流。为什么啊为什么？"
   ]
  },
  {
   "cell_type": "code",
   "execution_count": 17,
   "id": "780b38e9",
   "metadata": {},
   "outputs": [
    {
     "data": {
      "text/plain": [
       "(62,\n",
       " {'0',\n",
       "  '1',\n",
       "  '2',\n",
       "  '3',\n",
       "  '4',\n",
       "  '5',\n",
       "  '6',\n",
       "  '7',\n",
       "  '8',\n",
       "  '9',\n",
       "  'A',\n",
       "  'B',\n",
       "  'C',\n",
       "  'D',\n",
       "  'E',\n",
       "  'F',\n",
       "  'G',\n",
       "  'H',\n",
       "  'I',\n",
       "  'J',\n",
       "  'K',\n",
       "  'L',\n",
       "  'M',\n",
       "  'N',\n",
       "  'O',\n",
       "  'P',\n",
       "  'Q',\n",
       "  'R',\n",
       "  'S',\n",
       "  'T',\n",
       "  'U',\n",
       "  'V',\n",
       "  'W',\n",
       "  'X',\n",
       "  'Y',\n",
       "  'Z',\n",
       "  'a',\n",
       "  'b',\n",
       "  'c',\n",
       "  'd',\n",
       "  'e',\n",
       "  'f',\n",
       "  'g',\n",
       "  'h',\n",
       "  'i',\n",
       "  'j',\n",
       "  'k',\n",
       "  'l',\n",
       "  'm',\n",
       "  'n',\n",
       "  'o',\n",
       "  'p',\n",
       "  'q',\n",
       "  'r',\n",
       "  's',\n",
       "  't',\n",
       "  'u',\n",
       "  'v',\n",
       "  'w',\n",
       "  'x',\n",
       "  'y',\n",
       "  'z'})"
      ]
     },
     "execution_count": 17,
     "metadata": {},
     "output_type": "execute_result"
    }
   ],
   "source": [
    "# OOHHHHHHH! it's base 62!\n",
    "s = s.decode()\n",
    "# print unique chars in s\n",
    "len(set(s)), set(s)"
   ]
  },
  {
   "cell_type": "code",
   "execution_count": null,
   "id": "e22289d6",
   "metadata": {},
   "outputs": [
    {
     "name": "stdout",
     "output_type": "stream",
     "text": [
      "b'\\x01\\xb8\\xb6\\xd8l\\xa0\\xca#,&\\xcd\\xbe\\xf5\\xc2\\x86\\x0f\\xc2Z\\x86:\\x1d\\xda\\xa4\\xd1>\\x82u\\x92/:\\xf9\\xf8\\xbef\\xbc\\xe0\\x90\\xa2%\\x0c;\\xe8\\xb5\\xad\\x97\\x1a\\x16\\xceP\\x7f\\xb2\\xe3z`\\x9d\\xcbB\\x8f\\xa4\\xfa>\\xb0\\xcf\\xa9\\xe6,9\\x9f\\x86\\xbb\\x0bDd\\x0f\\xf9\\xf0\\x9b<\\xaa\\xe1\\x9birl\\xb5\\xe9\\xb9\\xc6\\xe52\\xd8\\xeb\\x1f\\xa8\\x07\\x9f\\x92\"\\x97\\x08\\xc4Z\\xc1\\xf8\\xb0\\xa5\\x1f%T\\x7f\\x81\\xeb\\x97\\xcab~\\xeeD\\x8e\\xa2\\xf8<o\\xdc\\x96\\xa3\\xb3\\xf9\\x1fQ\\xba\\xffe\\x8c\\xd2\\xc4\\xc8q\\xd6\\xe4E=p\\x19];\\xc9\\xdf\\xa3VW5\\x0fq\\xc7\\x97G\\x1d\\xe0E\\x0f\\xf6\\xb0\\xe7\\xc4\\xe9m\\xc7\\xc9\\x12\\xe4\\xa0C\\xa0\\x0bc\\'\\x08\\x94\\xda\\xab\\x0cx+zo\\xdeY*s#\\x04Iw4E\\xd7\\\\\\x1et.Jp$\\x92\"J\\x05u8U\\xc0\\r.\\xe4-\\xcc\\x81\\x95x#\\xeaj\\x04\\xb63\\n\\xf4\\\\\\r\\xc9\\xf6\\xcc\\x139\\x1b\\xfb\\x89~O*\\x00\\xba\\x18\\x9b?\\xf1\\xdeg\\x9d\\x81\\xa4\\xfb\\xcc\\xd2}KO\\x92\\xb6FL\\xab\\x94wDK)\\x93i?;\\x8dp\\xc3\\xf9yA_\\xc4\\xf0\\xf0\\xf5\\x14,\\xabj\\x11\\x19\\xb0\\xdb\\xd7\\xfc\\xc7ZD\\x96\\x7fRo\\tPo\\xdf\\x8c\\xe5<?l\\xa1\\x16<\\xff\\x152\\xa4c\\x83\\xa6\\xa0\\xc5TQm\\x82R\\xfd}@\\x9c\\x00\\xab\\x0f\\xb7\\xf2\\xc4Oi*\\xb1td\\x820\\xe1~E6\\x1e\\x89\\r# \\x03\\x8cc\\xb8\\xbd\\xdda\\xe4\\x99J`\\x93XK\\x82\\x97a\\xa8\\xd5O\\xddXROb0~b\\x1f\\x1e(O\\xd1\\xfbHgx\\x83^\\xcf\\xe5\\xdf\\xd0f\\x94\\x86\\xd8\\xa9r\\\\/\\x8fw\\xa4\\xc2\\x0c\\xb5\\xc0\\xa9\\n\\x8c\\xa7\\xa8:;?\\x8af#`*y\\xee\\xb1\\xabs)\\xc3\\x10\\x17X\\xb64#v\\xdc5\\xd3\\xb1\\xfe\\x12\\xafp\\x9c59~5\\x9c\\x8e[9\\xb5\\xbe}2)\\x9d\\x86\\x1e\\xb6\\xfbQ\\x88\\xb9\\xb6\\xa8\\xe4\\xbc\\x89o\\xf7\\xf0fB\\xe2\\n !\\xcd\\xbcf\\x16\\xcbw0\\xfd\\x063\\x12\\xc1\\x1f\\xd6\\xf0\\xb7\\xc2\\xdet\\xa4\\xa8Ha6g\\xbb\\xbc\\x13\\xb3\\x9a\\xa7S\\xfdU\\xb8\\xd7\\xba3\\xe0\\xfb 4\\x832\\x00\\xb5\\xff-\\x97\\xb1T\\xa3\\x99\\xd2\\xb8\\xc3\\x0eY>\\xca\\x8a(1<\\xa1f\\xf5\\x82g\\x14K\\x00\\xd98\\x87\\x8b\\x15\\xe2l\\xa5\\xb7\\x1f\\x89H(\\xe7\\x9eS\\xf7\\x85\\xdf\\x14\\x9f\\xf8f\\xc9\\xdd\\xb7?\\xd2.w\\xc6\\x98\\xb6\\x1fv\\xd5\\xaf\\x8b\\x89\\xfa\\xea{\\xce\\x9b\\x857\\x0b\\x11\\xae\\xb3\\xe6^\\xf1\\xd7\\x88\\xe0\\xbbL\\xf9\\xb3\\xd9\\xa6\\xa0\\xdd\\x0c\\x8f'\n",
      "b'(\\xf0\\x8c.\\xc1\\r\\xce\\x0fO^\\xd8\\xbb\\x9b\\xb6\\xc6\\x95tw\\xc6\\xb0&\\x9b\\x85\\xb3\\xfdJ\\xfa\\xce2\\x1dA6\\x1b@\\xd4\\xa4\\x05Xah\\xe7\\x8a\\xc1\\x83|\\x92\\xed\\x87r\\xc2\\xe7aAU\\xa0+b\\xfa\\x85W\\xf8\\xa4\\xded'\n"
     ]
    }
   ],
   "source": [
    "from base62 import *\n",
    "print(decodebytes(s1.decode()))\n",
    "print(decodebytes(s2.decode()))"
   ]
  },
  {
   "cell_type": "code",
   "execution_count": 5,
   "id": "22dddf25",
   "metadata": {},
   "outputs": [
    {
     "data": {
      "text/plain": [
       "b'\\x01\\xcb\\xb5\\xef\\x96g\\xb1-U\\xa58zU\\x9c\\xf8\\x94\\xb6\\x14Y\\xe0\\xf9&v\\xc2\\xdc\\xb1\\xa3\\xc5yS\\x82\\xb5r\\x8f\\x02&\\xfbSP\\x08z\\x07\\x89\\x8c\\xefh_Dc\\x8ec\\xdd\\xaf\\xd03a8\\xeb^\\x11\\xd6\\x15%{\\x11\\x9d\\x1ah9s\\x1c\\x18\\xd9\\x92m\\xc6<\\x07\\xeb!\\x7fH\\xa9\\x8f\\xdfr\\x13h\\xa8\\xc8f\\xfc\\x95\\x0e\\xdb\\x8d:\\x99\\xf7\\x10hXB:\\xd2\\xc65\\x12\\x01\\xe0 c\\xb7A\\xd54n\\x11\\x83\\xd2\\x9cl\\xc0\\x9e\\xdaw\\xdaI\\xd0\\xdee\\xd9\\x81\\xf3\\xed\\xee\\x0f\\x86\\xec\\xaf\\xd6\\x0e\\xff\\x08\\x07<\\x823^\\x92e\\xcb\\\\\\x97C3\\xcc\\xbb\\xa7o\\x18\\xa4t\\x19\\x19g\\x81\\xde\\x8e\\xa5nw\\x85^\\xb9_\\x00\\xfb\\x85\\xb5)\\xda\\xb4\\xac\\xa7\\xdcl\\x9a\\x1d\\x12\\xc4\\x7f\\xbaE\\xdf\\xe25\\xd4\\x1b\\x8b\\xfc\\x95}|l\\xa0C>\\xab6\\xedwI\\xcc\\xaed\\x10I\\xddT\\xd8\\x8cX@B\\xcah\\xd9H\\xb8Z\\x8b\\xbcd/$\\x8b\\xed\\xfbG\\xe5\\x8d\\xd9\\xeb\\r\\x1f\\xb2\\xd5n$`\\xd9\"\\xbd\\x9f\\x87\\xdcn%U\\xc7\\x8a\\x95\\xbf\\x82<\\xf1|\\xfe\\xd96\\xd7\\xacJ\\x86w\\x9f\\x80J@\\x13T\\x94\\x9cP\\xb1gk!\\x1cf\\x17\\xc2\\xf6\\xa3AD|\\xf0Y\\x0f\\xd3\\x86N\\xd4\\xb6&+Q\\x9c\\xceZ\\xb83\\xa7\\xd5\\xb8\\xe7\\x8e\\x11\\x0cM\\xfe\\x89\\xc7=\\x91\\xd7\\x88\\xb8\\xc0\\x038\\xdb\\xbfZ\\xdd\\xe6\\x08\\xd3\\xf0\\xcfx[\\xed\\xbf\\x16sy\\x0e4\\xb2f\\xb7\\xb1\\xb1\\x191\\x11\\xc4]\\'K#\\xebt\\x81HV\\xafk\\xcc\\xbfn4\\x1b\\xe6\\xc0k\\xe6\\x11\\x8b6)\\xc2)\\x19\\x13\\xcfm\\xe02\\xb6]\\xa5\\x86u\\xbc\\xe7\\x93\\xa0\\xee\\x19\\xaf2X\\x14\\x8a\\xf2\\xbe\\xcc\\x17\\xa3U\\xbe\\xbb\\xb7\\x82\\x07\\xb6T\\xa2\\xfe\\'zU\\x8f\\x8e\\x91\\xea\\x0e\\x90\\xfa2N\\x01\\x03\\xbf\\x07\\xfd\\xfe\\xec\\x8f>\\xf4:\\x02\\xf0\\xb9\\x8c\\x95\\xee\\xfb\\xab\\xfd\\xf1V\\x17\\xcbr\\x8d\\xf8\\x9b\\x08`\\x82\\x12\\x8c\\xfd\\xf7M\\xd9l\\xbc$\\x19M8\\xf4$\\xe0\\xbf\\xa2V=\\xd0\\xbe\\xd1V\\x8d&tN\\xd8\\x9c\\x06fR\\xbb~\\x0cn\\x8d\\x9e^\\xed\\x81\\xd9,\\xf8a\\xd0\\\\{$\\xd4\\x8a\\x19z\\x85\\xe4\\x18\\xd6\\x0fn\\x17\\xa0U\\x03\\xb0x\\xdb\\xa8J\\xafl\\x03\\x01\\x84\\xe4f\\x9d\\xc6a\\xcbGP\\x8d\\xd74\\x87t\\xd5j\\xe9+iy\\x91!\\xaeS\\x17\\x80[1\\x9fj\\xbe\\xd8\\\\F\\x8e\\x8aj/\\xd7dD\\x8c\\x86\\xdd^\\x85\\x19<Z\\xad\\xc93\\xa1\\xde\\xe2\\x88\\xbf\\xc8RU\\xa0\\x0f]\\x11\\x89E\\x1e\\xda\\xf7N\\x12_g\\x97;\\xe4\\xc1\\xab\\xb4\\n\\x19jvU\\xd8-\\xb7s\\xd0\\xea\\x90\\x7f\\x8a\\x04b\\xde\\x12z\\xfc\\xc7N\\xa2\\xeb\\xde>O\\xc5\\xc7\\x86T\\x9ap&\\x86J\\t=\\xb4\\xed<\\xea\\x9d\\x02\\x04\"\\xbe\\xf2F(\\x1d\\xe6h\\xbf\\r\\x15\\x15\\xa0+b\\xfa\\x85W\\xf8\\xa4\\xded'"
      ]
     },
     "execution_count": 5,
     "metadata": {},
     "output_type": "execute_result"
    }
   ],
   "source": [
    "from base62 import *\n",
    "\n",
    "_decoded = decodebytes(s)\n",
    "\n",
    "# save decoded to a binary file\n",
    "with open(\"flag23_decoded.bin\", \"wb\") as of:\n",
    "    of.write(_decoded)\n",
    "_decoded"
   ]
  },
  {
   "cell_type": "code",
   "execution_count": 25,
   "id": "239c75c3",
   "metadata": {},
   "outputs": [
    {
     "data": {
      "text/plain": [
       "b'\\xca@;\\xbbAQ\\xc58gOz\\x8a\\x0f\\xef\\xc3\\xf16\\xfdrMY\\xab\\xaa\\xda>+\\x1e(\\xfb\\x0e\\x8d\\x1b\\x03\\t\\x83\\xc4f|\\xe2\"\\xd3c\\x88\\xba\\x8e\\x14\\xb0!\\xe8f?\\x16&I\\x14\\x08\\xfc\\xe7\\xbf^\\x81\\xd1\\x02\\x04:L\\xad\\xb2\\xdatvb\\x9eR\\x08`m\\xa9S\\x86\\xe5\\x9aq\\x95\\x87='"
      ]
     },
     "execution_count": 25,
     "metadata": {},
     "output_type": "execute_result"
    }
   ],
   "source": [
    "result = []\n",
    "for i, b in enumerate(s2):\n",
    "    result.append((b ^ KEYSTREAM[i]).to_bytes(1, byteorder='little'))\n",
    "b''.join(result)"
   ]
  },
  {
   "cell_type": "code",
   "execution_count": null,
   "id": "1808a082",
   "metadata": {},
   "outputs": [],
   "source": [
    "# 逐字节遍历r, 寻找可以被解压缩的流\n",
    "\n",
    "import zlib\n",
    "\n",
    "for i in range(len(s2d)):\n",
    "    try:\n",
    "        decompressed = zlib.decompress(s2d[i:], -15)\n",
    "        print(f\"Decompressed successfully at offset {i}:\")\n",
    "        print(decompressed)\n",
    "    except Exception as e:\n",
    "        continue\n"
   ]
  },
  {
   "cell_type": "code",
   "execution_count": 8,
   "id": "daa54ee2",
   "metadata": {},
   "outputs": [
    {
     "data": {
      "text/plain": [
       "b'\\xf2\\xdd\\xc5\\x0e\\xb6DM|Q\\x8ft\\xc5\\x1e\\x16|3\\xc6\\xdc\\x1a\\xce\\xf2\\xe2\\x99s\\x91\\xcd\\xe7\\xa8\\xc0>x\\xc0#\\xeb\\xc8\\xda\\xefL\\x8bm\\xfc\\x1c[l\\x19\\x0f\\xdb\\x14\\xe1\\xd0\\t\\xf8\\xe2\\xfc\\x1e/\\x85_\\xb1z\\'\\xbcs\\x15\\x13\\x8b\\xd5\\x98\\x966\\x1c\\x16\\x14\\x90\"\\xe87\\xe1\\x8e\\xec\\xc2\\x91\\xb4X:\\x1e\\xad!Hc[\\x97-\\xc9\\x0fO\\xdb\\xed\\xd1z\\xef\\xe4\\x1a\\xda\\x8d`\\xb4r#{-\\xf9!~S\\xd3\\xa4\\xff\\x10M\\xe3@\\x8e\\x021\\xa62\\x01J\\x03I+\\xcb\\x04\\xc1\\xd7\\xccu!\\xaa,K\\xa2E\\xed\\x96+\\xce\\x82J\\xe0\\xedP\\xbf\\xb0\\xdfcc_\\x90\\xc9\\x1d\\x7f\\xb6\\xd7\\x98\\xd4\\xd1\\xf5\\xe5~\\xf8\\xeap\\x0f\\xb1D\\xfd\\xebK\\n\\xd8 \\xca1:85.\\x94Y(\\\\1q\\xc8\\x90u\\x18\\xd3@s\\xbfh\\xe4\\xf0\\xa8\\x80\\xd9\\xbe\\x92\\xff\\xe8~\\xb3\\x8e`\\x87\\xcep\\xf8\\x8e\\x08\\xa4\\xec\\x96\\xbc\\x7fC\\xf9\\x86c\\xda\\xd8\\xdf0\\xe2z\\xe0\\xf0\\xf3c\\xb7\\xe3\\x97&\\xc5F\\xd2h\\xcaE\\x9d\\t<\\xdb\\x07\\xcc\\'\\xb9\\x8fi(\\x99\\xdc9oi\\xc2\\x8d\\xb5\\x7f\\xcb\\x97f\\x83Y\\xe8\\xc2?tlo\\xd4\\xe0>j\\x84KT\\xc4z^\\xdf$\\x97pJ\\xaaa+}\\x11QO\\x1el\\x8f\\x8c\\x83S\\x15W\\xcc3\\xd1\\xc1{@\\xed\\xce\\xe4\\xf4\\x97\\x03\\x11\\xdc\\x83\\xe4\\x97\\xaa\\xd6\\xed\\xc8\\x14\\xaf\\x9c^\\xf8\\xe6\\rW8\\xd0\\xa0\\xcehT\\xa4\\x93\\xef\\x12\\xfen\\x7fke\\x0e0\\x81\\xffG\\xfa~(\\xb9\\x81A\\xff\\xb5U\\x81\\x06\\xb5so\\xa1\\x90\\x93\\xae-m\\xd6n\\xa7\\xbb\\xc7\\xb1]\\xc0x\\x7f\\xb4\\xf1\\xa5\\xb0\\xd0\\xb06\\xd9{\\xae\\n\\xaee\\xdcU\\xac \\xacx\\xc5\\xd0\\x81\\xad\\xbb9J\\xd6l\\xfb\\x86-\\x88\\xf0ZNJ\\x06\\xbf\\xfd\\xf9\\xb8 tF?\\xec\\xe3d^Y\\x02#\\x85\\x1f\\x1b\\x8d\\xaftB\\xe4\\xa2\\xc3)z\\xe91\\x9c\\xf5.\\xcb`\\x1f\\x7flzw\\xcf\\x08\\x8d@\\xf3g\\xd0\\x0c\\xe6\\xfa\\x81\\xdc\\xd3\\xf1\\xa0~\\xa6\\x7f\\xeb\\x90\\xf5\\xf8\\x0fV\\x9e\\xdc\\x9c\\xe8xn\\x80\\x04\\'\\xb7\\xf78\\xa4\\xf7W\\x1ah\\xf7Y\\xeb\\xef\\xb7\\xf5\\xca\"&\\xb9r\\xbb#\\x08ahh\\xba\\x9d\\x05\\x15\\x98\\x0b\\xc2\\x0e\\xc6\\xff\\x8a\\x89- \\xa3\\x91x\\x94\\xaa\\xbc\\xaa#\\xa5M\\xa3\\xf8\\xeb\\x8b\\xe7F8\\x9dw\\\\\\xe4\\x88\\xeb\\x06\\x08\\xf6H5\\xd7]pE/\\xd8\\xc0\\xd1\\xd2\\xaf\\xf48\\xc1\\xeb\\x86\\xd8\\xa8o\\x8c\\xe2\\xd6\\xa4\\xdcn\\xa9I\\x879k0\\xd3\\xb7\\xc0\\xfb\\xca\\x84\\x0e\\x01\\xe0\\xfcB=\\x04\\xady\\x15\\xb3\\x11\\x03\\xb0I\\xe2\\xec]m\\x86?\\x81\\xc5w5\\xc4,u5\\xf9R\\x1e\\xa6\\xe8[t\\xe1\\x1a\\x8e\\x08~u\\xb9\\xc4\\x1b\\xbd\\xfa\\xbd\\xd9\\xadY\\xe6\\xdf\\xc7G\\x95\\xca\\x91\\xa3\\x96\\x96i\\\\\\xda\\xe5\\x13\\xf9B{R\\x8f\\x0b}q\\x8f\\xd5=P\\xdd2'"
      ]
     },
     "execution_count": 8,
     "metadata": {},
     "output_type": "execute_result"
    }
   ],
   "source": [
    "# xor with keystream again?\n",
    "\n",
    "result = []\n",
    "\n",
    "for i, b in enumerate(_decoded):\n",
    "    result.append((b ^ KEYSTREAM[i]).to_bytes(1, byteorder='little'))\n",
    "r = b''.join(result)\n",
    "with open(\"flag23_xored.bin\", \"wb\") as of:\n",
    "    of.write(r)\n",
    "r"
   ]
  },
  {
   "cell_type": "code",
   "execution_count": 9,
   "id": "13de346a",
   "metadata": {},
   "outputs": [
    {
     "name": "stdout",
     "output_type": "stream",
     "text": [
      "Decompressed successfully at offset 46:\n",
      "b'\\xb2X@\\x89'\n",
      "Decompressed successfully at offset 300:\n",
      "b'u\\xe8X\\x7fX\\x7fX\\x7fX\\x7fX\\x7fX\\x7fX\\x7fX\\x7fX\\x7fX\\x7fX\\x7fX\\x7fX\\x7fX\\x7fX\\x7fX\\x7fX\\x7fX\\x7fX\\x7fX\\x7fX\\x7fX\\x7fX\\x7fX\\x7fX\\x7fX\\x7fX\\x7fX\\x7f\\x87Y^X\\x7fX\\x7f\\x87Y^X\\x7fx\\xd47iiiiiiiiiiiiiiiii\\xef'\n",
      "Decompressed successfully at offset 562:\n",
      "b'\\x8b'\n",
      "Decompressed successfully at offset 601:\n",
      "b'\\xf5\\x02\\xf5\\x02\\xf5\\x02\\xf5\\x02\\xf5\\x02\\xf5\\x02\\xf5\\x02\\xf5\\x02\\xf5\\x02'\n",
      "Decompressed successfully at offset 614:\n",
      "b'<\\x16'\n",
      "Decompressed successfully at offset 616:\n",
      "b''\n"
     ]
    }
   ],
   "source": [
    "# 逐字节遍历r, 寻找可以被解压缩的流\n",
    "\n",
    "import zlib\n",
    "\n",
    "for i in range(len(r)):\n",
    "    try:\n",
    "        decompressed = zlib.decompress(r[i:], -15)\n",
    "        print(f\"Decompressed successfully at offset {i}:\")\n",
    "        print(decompressed)\n",
    "    except Exception as e:\n",
    "        continue"
   ]
  }
 ],
 "metadata": {
  "kernelspec": {
   "display_name": "base",
   "language": "python",
   "name": "python3"
  },
  "language_info": {
   "codemirror_mode": {
    "name": "ipython",
    "version": 3
   },
   "file_extension": ".py",
   "mimetype": "text/x-python",
   "name": "python",
   "nbconvert_exporter": "python",
   "pygments_lexer": "ipython3",
   "version": "3.10.16"
  }
 },
 "nbformat": 4,
 "nbformat_minor": 5
}